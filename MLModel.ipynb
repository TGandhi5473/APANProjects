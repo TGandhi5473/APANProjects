{
  "nbformat": 4,
  "nbformat_minor": 0,
  "metadata": {
    "colab": {
      "provenance": [],
      "toc_visible": true,
      "authorship_tag": "ABX9TyMQk0lkTtUoJ03ZZYmilUMf",
      "include_colab_link": true
    },
    "kernelspec": {
      "name": "python3",
      "display_name": "Python 3"
    },
    "language_info": {
      "name": "python"
    }
  },
  "cells": [
    {
      "cell_type": "markdown",
      "metadata": {
        "id": "view-in-github",
        "colab_type": "text"
      },
      "source": [
        "<a href=\"https://colab.research.google.com/github/TGandhi5473/APANProjects/blob/main/MLModel.ipynb\" target=\"_parent\"><img src=\"https://colab.research.google.com/assets/colab-badge.svg\" alt=\"Open In Colab\"/></a>"
      ]
    },
    {
      "cell_type": "code",
      "source": [],
      "metadata": {
        "id": "qvjcIkvjOYX3"
      },
      "execution_count": null,
      "outputs": []
    },
    {
      "source": [
        "from google.colab import drive\n",
        "drive.mount('/content/drive')"
      ],
      "cell_type": "code",
      "metadata": {
        "colab": {
          "base_uri": "https://localhost:8080/"
        },
        "id": "Q0a77sPROqeC",
        "outputId": "f9e091ac-94c3-4ff6-bf58-5986104b25f7"
      },
      "execution_count": 1,
      "outputs": [
        {
          "output_type": "stream",
          "name": "stdout",
          "text": [
            "Mounted at /content/drive\n"
          ]
        }
      ]
    },
    {
      "cell_type": "markdown",
      "source": [
        "# Reading in Data and Checking for Missing Values"
      ],
      "metadata": {
        "id": "-dcVJZXqPptC"
      }
    },
    {
      "cell_type": "code",
      "execution_count": 2,
      "metadata": {
        "colab": {
          "base_uri": "https://localhost:8080/"
        },
        "id": "Ei6FkiQnNl0_",
        "outputId": "d84afc3a-a2a6-402d-f699-f3bbcfc08c94"
      },
      "outputs": [
        {
          "output_type": "stream",
          "name": "stdout",
          "text": [
            "trim_name                       7\n",
            "fuel_tank_volume_gallons        5\n",
            "fuel_type                     671\n",
            "highway_fuel_economy         5453\n",
            "city_fuel_economy            5453\n",
            "power                        5503\n",
            "torque                       6268\n",
            "transmission                 1555\n",
            "transmission_display         1555\n",
            "wheel_system                  341\n",
            "wheel_system_display          341\n",
            "engine_type                   674\n",
            "engine_displacement           392\n",
            "horsepower                    392\n",
            "description                   998\n",
            "exterior_color               1022\n",
            "interior_color               7585\n",
            "major_options                2708\n",
            "fleet                       23543\n",
            "frame_damaged               23543\n",
            "franchise_make              12026\n",
            "has_accidents               23543\n",
            "isCab                       23543\n",
            "is_cpo                      47065\n",
            "mileage                      2178\n",
            "owner_count                 24769\n",
            "salvage                     23543\n",
            "seller_rating                 678\n",
            "dtype: int64\n",
            "\n",
            " trim_name                    object\n",
            "fuel_tank_volume_gallons    float64\n",
            "fuel_type                    object\n",
            "highway_fuel_economy        float64\n",
            "city_fuel_economy           float64\n",
            "power                        object\n",
            "torque                       object\n",
            "transmission                 object\n",
            "transmission_display         object\n",
            "wheel_system                 object\n",
            "wheel_system_display         object\n",
            "engine_type                  object\n",
            "engine_displacement         float64\n",
            "horsepower                  float64\n",
            "description                  object\n",
            "exterior_color               object\n",
            "interior_color               object\n",
            "major_options                object\n",
            "fleet                        object\n",
            "frame_damaged                object\n",
            "franchise_make               object\n",
            "has_accidents                object\n",
            "isCab                        object\n",
            "is_cpo                       object\n",
            "mileage                     float64\n",
            "owner_count                 float64\n",
            "salvage                      object\n",
            "seller_rating               float64\n",
            "dtype: object\n"
          ]
        }
      ],
      "source": [
        "import pandas as pd\n",
        "import numpy as np\n",
        "\n",
        "# Read the data & handle missing values\n",
        "file_path = '/content/drive/My Drive/MLProjects/analysisData.csv'\n",
        "data = pd.read_csv(file_path)\n",
        "data.replace(\"\", np.nan, inplace=True)\n",
        "\n",
        "# Count NA values in each column\n",
        "na_empty_count = data.isna().sum()\n",
        "\n",
        "# Identify columns with NA values\n",
        "columns_with_na_empty = na_empty_count[na_empty_count > 0].index.tolist()\n",
        "\n",
        "# Display counts of NA values for columns with NA values\n",
        "print(na_empty_count[columns_with_na_empty])\n",
        "\n",
        "# Get the classes of columns with NA values\n",
        "column_classes = data[columns_with_na_empty].dtypes\n",
        "print(\"\\n\", column_classes)\n"
      ]
    },
    {
      "cell_type": "markdown",
      "source": [
        "We assume more than 10% missing data is unsuitable for ML algorithims and exclude them from analysis."
      ],
      "metadata": {
        "id": "DpxprkyIUJvG"
      }
    },
    {
      "source": [
        "# Calculate missing percentage for each column\n",
        "missing_percentage = (data.isna().sum() / len(data)) * 100\n",
        "\n",
        "# Identify columns to remove (missing percentage > 10%)\n",
        "columns_to_remove = missing_percentage[missing_percentage > 10].index.tolist()\n",
        "\n",
        "# Create a new DataFrame without the columns to remove\n",
        "data_clean = data.drop(columns=columns_to_remove)\n",
        "\n",
        "# Identify numerical columns for imputation\n",
        "numeric_columns = data_clean.select_dtypes(include=np.number).columns.tolist()\n",
        "\n",
        "# Impute missing values with the mean for numerical columns\n",
        "for col in numeric_columns:\n",
        "    if data_clean[col].isnull().any():\n",
        "        data_clean[col] = data_clean[col].fillna(data_clean[col].mean())\n"
      ],
      "cell_type": "code",
      "metadata": {
        "id": "nUSlzg7sPIDK"
      },
      "execution_count": 3,
      "outputs": []
    },
    {
      "cell_type": "markdown",
      "source": [
        "# EDA for our ML set (Important for reducing noise when inputting our model)"
      ],
      "metadata": {
        "id": "KO7C1rlmQNNC"
      }
    },
    {
      "cell_type": "code",
      "source": [
        "import seaborn as sns\n",
        "import matplotlib.pyplot as plt\n",
        "numerical_data = data_clean.select_dtypes(include=np.number)\n",
        "numerical_data = numerical_data.drop(columns=['id'])\n",
        "correlation_matrix = numerical_data.corr()\n",
        "mask = np.triu(np.ones_like(correlation_matrix, dtype=bool))\n",
        "plt.figure(figsize=(12, 10))\n",
        "sns.heatmap(correlation_matrix, annot=True, cmap='coolwarm', mask=mask, fmt=\".2f\")\n",
        "plt.title('Correlation Matrix (Lower Triangle)')\n",
        "plt.show()"
      ],
      "metadata": {
        "colab": {
          "base_uri": "https://localhost:8080/",
          "height": 637
        },
        "id": "iDLCFNknQXYg",
        "outputId": "d201d821-5237-49f3-bf49-2d6e31614104"
      },
      "execution_count": 4,
      "outputs": [
        {
          "output_type": "display_data",
          "data": {
            "text/plain": [
              "<Figure size 1200x1000 with 2 Axes>"
            ],
            "image/png": "[encoded data removed]"
          },
          "metadata": {}
        }
      ]
    },
    {
      "source": [
        "\n",
        "\n",
        "correlation_matrix = correlation_matrix.mask(np.equal(*np.indices(correlation_matrix.shape)))\n",
        "stacked_corr = correlation_matrix.stack().reset_index()\n",
        "\n",
        "# Filter for absolute correlation values >= 0.6\n",
        "high_corr = stacked_corr[stacked_corr[0].abs() >= 0.6]\n",
        "\n",
        "# Rename columns for better readability\n",
        "high_corr.columns = ['Variable 1', 'Variable 2', 'Correlation']\n",
        "# Create a combined column for sorting and filtering\n",
        "high_corr['Combined'] = high_corr.apply(lambda row: tuple(sorted((row['Variable 1'], row['Variable 2']))), axis=1)\n",
        "\n",
        "# Keep only the first occurrence of each unique pair\n",
        "high_corr = high_corr[~high_corr.duplicated(subset=['Combined'], keep='first')]\n",
        "\n",
        "# Drop the 'Combined' column (no longer needed)\n",
        "high_corr = high_corr.drop(columns=['Combined'])\n",
        "\n",
        "\n",
        "# Display the result\n",
        "print(high_corr)"
      ],
      "cell_type": "code",
      "metadata": {
        "colab": {
          "base_uri": "https://localhost:8080/"
        },
        "id": "NM9GWjUWTNB_",
        "outputId": "0557a7a9-aadc-4904-baf6-a7aa32af8a97"
      },
      "execution_count": 5,
      "outputs": [
        {
          "output_type": "stream",
          "name": "stdout",
          "text": [
            "                   Variable 1           Variable 2  Correlation\n",
            "0    fuel_tank_volume_gallons     wheelbase_inches     0.842168\n",
            "3    fuel_tank_volume_gallons        length_inches     0.848567\n",
            "4    fuel_tank_volume_gallons         width_inches     0.645402\n",
            "5    fuel_tank_volume_gallons        height_inches     0.736536\n",
            "6    fuel_tank_volume_gallons  engine_displacement     0.819015\n",
            "7    fuel_tank_volume_gallons           horsepower     0.777131\n",
            "17           wheelbase_inches        length_inches     0.961585\n",
            "18           wheelbase_inches         width_inches     0.629359\n",
            "19           wheelbase_inches        height_inches     0.685472\n",
            "20           wheelbase_inches  engine_displacement     0.768946\n",
            "21           wheelbase_inches           horsepower     0.720626\n",
            "60              length_inches         width_inches     0.625630\n",
            "61              length_inches        height_inches     0.649459\n",
            "62              length_inches  engine_displacement     0.790600\n",
            "63              length_inches           horsepower     0.744883\n",
            "77               width_inches           horsepower     0.657645\n",
            "90              height_inches  engine_displacement     0.632060\n",
            "105       engine_displacement           horsepower     0.828740\n",
            "125                horsepower                price     0.638543\n",
            "136              daysonmarket                 year    -0.644705\n"
          ]
        },
        {
          "output_type": "stream",
          "name": "stderr",
          "text": [
            "<ipython-input-5-5df6fabd4008>:10: SettingWithCopyWarning: \n",
            "A value is trying to be set on a copy of a slice from a DataFrame.\n",
            "Try using .loc[row_indexer,col_indexer] = value instead\n",
            "\n",
            "See the caveats in the documentation: https://pandas.pydata.org/pandas-docs/stable/user_guide/indexing.html#returning-a-view-versus-a-copy\n",
            "  high_corr['Combined'] = high_corr.apply(lambda row: tuple(sorted((row['Variable 1'], row['Variable 2']))), axis=1)\n"
          ]
        }
      ]
    },
    {
      "cell_type": "markdown",
      "source": [
        "Text Columns (Either one-hot encode for ML algorithims or find a sentiment score for the descriptions)"
      ],
      "metadata": {
        "id": "GF8llkkkVzNM"
      }
    },
    {
      "cell_type": "code",
      "source": [
        "data_clean['volume_inches'] = data_clean['length_inches'] * data_clean['width_inches'] * data_clean['height_inches']\n",
        "data_clean['listed_date'] = pd.to_datetime(data_clean['listed_date'])\n",
        "data_clean['listing_year'] = data_clean['listed_date'].dt.year\n",
        "data_clean['listing_month'] = data_clean['listed_date'].dt.month\n",
        "data_clean['listing_day'] = data_clean['listed_date'].dt.day\n",
        "text_columns = data_clean.select_dtypes(include=['object', 'string'])\n",
        "print(text_columns.head())"
      ],
      "metadata": {
        "colab": {
          "base_uri": "https://localhost:8080/"
        },
        "id": "NYQuDRgjS7Di",
        "outputId": "550cbd56-187c-48c6-9737-1a1c8464c684"
      },
      "execution_count": 6,
      "outputs": [
        {
          "output_type": "stream",
          "name": "stdout",
          "text": [
            "   make_name      model_name                       trim_name        body_type  \\\n",
            "0  Chevrolet           Cruze                    LS Sedan FWD            Sedan   \n",
            "1       Ford      Expedition                     XLT MAX RWD  SUV / Crossover   \n",
            "2      Acura             TLX  V6 FWD with Technology Package            Sedan   \n",
            "3     Toyota          Tacoma            SR V6 Double Cab 4WD     Pickup Truck   \n",
            "4  Chevrolet  Silverado 1500                2LT Crew Cab RWD     Pickup Truck   \n",
            "\n",
            "  fuel_type transmission transmission_display wheel_system  \\\n",
            "0  Gasoline            A            Automatic          FWD   \n",
            "1  Gasoline            A            Automatic          4X2   \n",
            "2  Gasoline            A    9-Speed Automatic          FWD   \n",
            "3  Gasoline            A            Automatic          4WD   \n",
            "4  Gasoline            A    4-Speed Automatic          RWD   \n",
            "\n",
            "  wheel_system_display engine_type  \\\n",
            "0    Front-Wheel Drive          I4   \n",
            "1                  4X2          V6   \n",
            "2    Front-Wheel Drive          V6   \n",
            "3     Four-Wheel Drive          V6   \n",
            "4     Rear-Wheel Drive          V8   \n",
            "\n",
            "                                         description  \\\n",
            "0  This Chevrolet won't be on the lot long! This ...   \n",
            "1  Recent Arrival!110V/150W AC Power Outlet, 2 Sm...   \n",
            "2  This 2018 Acura TLX 3.5L V6 in Silver Metallic...   \n",
            "3  *DESIRABLE FEATURES:* 4X4, BACKUP CAMERA, BLUE...   \n",
            "4  Grille Color - Chrome, Rear Bumper Color - Chr...   \n",
            "\n",
            "                        exterior_color  \\\n",
            "0                         Mosaic Black   \n",
            "1  Rapid Red Metallic Tinted Clearcoat   \n",
            "2                      Silver Metallic   \n",
            "3               Magnetic Gray Metallic   \n",
            "4                                Cream   \n",
            "\n",
            "                                       major_options listing_color  \n",
            "0  ['Navigation System', 'Steel Wheels', 'Bluetoo...         black  \n",
            "1  ['Third Row Seating', 'Backup Camera', 'Remote...           red  \n",
            "2  ['Sunroof/Moonroof', 'Navigation System', 'Tec...        silver  \n",
            "3  ['Adaptive Cruise Control', 'Steel Wheels', 'B...          gray  \n",
            "4                                   ['Alloy Wheels']       unknown  \n"
          ]
        }
      ]
    },
    {
      "cell_type": "markdown",
      "source": [
        "# Label Encoding"
      ],
      "metadata": {
        "id": "fyjocOfNPhLe"
      }
    },
    {
      "source": [
        "text_columns = data_clean.select_dtypes(include=['object', 'string'])\n",
        "\n",
        "# Exclude 'description' and 'major_options'\n",
        "text_columns = text_columns.drop(columns=['description', 'major_options'], errors='ignore')\n",
        "\n",
        "# Print value_counts() for each remaining text column\n",
        "for column in text_columns.columns:\n",
        "    print(f\"\\nValue Counts for '{column}':\")\n",
        "    print(text_columns[column].value_counts())"
      ],
      "cell_type": "code",
      "metadata": {
        "colab": {
          "base_uri": "https://localhost:8080/"
        },
        "id": "UkZX2RmuXSvs",
        "outputId": "238e3949-f8f7-49a7-c6f7-aeeef8bac2f6"
      },
      "execution_count": 7,
      "outputs": [
        {
          "output_type": "stream",
          "name": "stdout",
          "text": [
            "\n",
            "Value Counts for 'make_name':\n",
            "make_name\n",
            "Ford             5948\n",
            "Chevrolet        5626\n",
            "Toyota           4583\n",
            "Nissan           4192\n",
            "Honda            3996\n",
            "Jeep             2359\n",
            "Hyundai          2167\n",
            "Volkswagen       1809\n",
            "Kia              1786\n",
            "Dodge            1594\n",
            "GMC              1510\n",
            "BMW              1371\n",
            "Mercedes-Benz    1229\n",
            "Mazda            1229\n",
            "RAM              1104\n",
            "Lexus            1079\n",
            "Buick             914\n",
            "Cadillac          840\n",
            "INFINITI          836\n",
            "Audi              834\n",
            "Lincoln           828\n",
            "Subaru            792\n",
            "Acura             625\n",
            "Chrysler          601\n",
            "Volvo             533\n",
            "Mitsubishi        481\n",
            "Land Rover        433\n",
            "Jaguar            195\n",
            "MINI              147\n",
            "Alfa Romeo         47\n",
            "FIAT               45\n",
            "Maserati           42\n",
            "Scion              38\n",
            "Genesis            32\n",
            "Bentley            31\n",
            "Porsche            23\n",
            "Pontiac            20\n",
            "Mercury            19\n",
            "Hummer             19\n",
            "Saturn             17\n",
            "Rolls-Royce        11\n",
            "Saab                7\n",
            "Suzuki              4\n",
            "Fisker              1\n",
            "Maybach             1\n",
            "Isuzu               1\n",
            "Aston Martin        1\n",
            "Name: count, dtype: int64\n",
            "\n",
            "Value Counts for 'model_name':\n",
            "model_name\n",
            "F-150                     1565\n",
            "Silverado 1500            1118\n",
            "Corolla                    996\n",
            "Rogue                      890\n",
            "Camry                      863\n",
            "                          ... \n",
            "Intrepid                     1\n",
            "Grand Prix                   1\n",
            "Accord Hybrid Plug-In        1\n",
            "Mountaineer                  1\n",
            "Stratus                      1\n",
            "Name: count, Length: 635, dtype: int64\n",
            "\n",
            "Value Counts for 'trim_name':\n",
            "trim_name\n",
            "SE FWD                         1624\n",
            "S FWD                          1204\n",
            "LE FWD                         1030\n",
            "SV FWD                          873\n",
            "LX FWD                          768\n",
            "                               ... \n",
            "LTZ Crew Cab LB 4WD               1\n",
            "Sports Activity Vehicle AWD       1\n",
            "3.5L Limited AWD                  1\n",
            "Krom                              1\n",
            "GLE AMG 63 S 4MATIC+ AWD          1\n",
            "Name: count, Length: 2903, dtype: int64\n",
            "\n",
            "Value Counts for 'body_type':\n",
            "body_type\n",
            "SUV / Crossover    24079\n",
            "Sedan              14620\n",
            "Pickup Truck        6159\n",
            "Hatchback           1468\n",
            "Minivan             1347\n",
            "Coupe               1244\n",
            "Wagon                590\n",
            "Convertible          294\n",
            "Van                  199\n",
            "Name: count, dtype: int64\n",
            "\n",
            "Value Counts for 'fuel_type':\n",
            "fuel_type\n",
            "Gasoline                  45076\n",
            "Flex Fuel Vehicle          2001\n",
            "Hybrid                     1336\n",
            "Diesel                      592\n",
            "Biodiesel                   321\n",
            "Compressed Natural Gas        2\n",
            "Electric                      1\n",
            "Name: count, dtype: int64\n",
            "\n",
            "Value Counts for 'transmission':\n",
            "transmission\n",
            "A              39428\n",
            "CVT             8137\n",
            "M                714\n",
            "Dual Clutch      166\n",
            "Name: count, dtype: int64\n",
            "\n",
            "Value Counts for 'transmission_display':\n",
            "transmission_display\n",
            "Automatic                             22963\n",
            "Continuously Variable Transmission     8098\n",
            "6-Speed Automatic                      5597\n",
            "8-Speed Automatic                      4980\n",
            "9-Speed Automatic                      1944\n",
            "6-Speed Automatic Overdrive            1413\n",
            "7-Speed Automatic                       797\n",
            "5-Speed Automatic                       644\n",
            "4-Speed Automatic                       510\n",
            "Manual                                  310\n",
            "6-Speed Manual                          279\n",
            "5-Speed Automatic Overdrive             198\n",
            "8-Speed Automatic Overdrive             169\n",
            "5-Speed Manual                           99\n",
            "6-Speed Dual Clutch                      84\n",
            "4-Speed Automatic Overdrive              76\n",
            "9-Speed Automatic Overdrive              65\n",
            "8-Speed Dual Clutch                      54\n",
            "1-Speed Automatic                        47\n",
            "7-Speed Dual Clutch                      28\n",
            "7-Speed CVT                              26\n",
            "7-Speed Automatic Overdrive              24\n",
            "6-Speed Manual Overdrive                 10\n",
            "5-Speed Manual Overdrive                  9\n",
            "6-Speed CVT                               8\n",
            "1-Speed CVT                               4\n",
            "7-Speed Manual                            4\n",
            "3-Speed Manual                            2\n",
            "4-Speed Manual                            1\n",
            "8-Speed CVT                               1\n",
            "3-Speed Automatic                         1\n",
            "Name: count, dtype: int64\n",
            "\n",
            "Value Counts for 'wheel_system':\n",
            "wheel_system\n",
            "FWD    26655\n",
            "AWD     8857\n",
            "4WD     6451\n",
            "RWD     4415\n",
            "4X2     3281\n",
            "Name: count, dtype: int64\n",
            "\n",
            "Value Counts for 'wheel_system_display':\n",
            "wheel_system_display\n",
            "Front-Wheel Drive    26655\n",
            "All-Wheel Drive       8857\n",
            "Four-Wheel Drive      6451\n",
            "Rear-Wheel Drive      4415\n",
            "4X2                   3281\n",
            "Name: count, dtype: int64\n",
            "\n",
            "Value Counts for 'engine_type':\n",
            "engine_type\n",
            "I4                           25856\n",
            "V6                           12374\n",
            "V8                            4412\n",
            "I4 Hybrid                     1279\n",
            "V8 Flex Fuel Vehicle          1026\n",
            "V6 Flex Fuel Vehicle           820\n",
            "H4                             788\n",
            "I3                             786\n",
            "I6                             661\n",
            "I6 Diesel                      312\n",
            "V8 Biodiesel                   281\n",
            "I4 Flex Fuel Vehicle           153\n",
            "I4 Diesel                      135\n",
            "I5                             118\n",
            "V8 Diesel                       81\n",
            "V6 Diesel                       64\n",
            "V6 Hybrid                       54\n",
            "V6 Biodiesel                    38\n",
            "W12                             19\n",
            "I2                              17\n",
            "V12                             17\n",
            "H6                              15\n",
            "V10                             11\n",
            "V8 Hybrid                        3\n",
            "I4 Compressed Natural Gas        2\n",
            "W12 Flex Fuel Vehicle            2\n",
            "I5 Biodiesel                     2\n",
            "Name: count, dtype: int64\n",
            "\n",
            "Value Counts for 'exterior_color':\n",
            "exterior_color\n",
            "Black                                      2880\n",
            "White                                      2129\n",
            "Gray                                       1545\n",
            "Silver                                     1469\n",
            "Summit White                               1336\n",
            "                                           ... \n",
            "charcoal                                      1\n",
            "Smokey Gray Metallic                          1\n",
            "Ocean Blue Metallic                           1\n",
            "Diamond Black Crystal Pearl-Coat  Paint       1\n",
            "Black Sapphire Blue Metallic                  1\n",
            "Name: count, Length: 3108, dtype: int64\n",
            "\n",
            "Value Counts for 'listing_color':\n",
            "listing_color\n",
            "white      10475\n",
            "black      10219\n",
            "gray        6935\n",
            "silver      6742\n",
            "unknown     6698\n",
            "blue        3864\n",
            "red         3840\n",
            "brown        401\n",
            "green        330\n",
            "orange       160\n",
            "gold         159\n",
            "teal          81\n",
            "yellow        66\n",
            "purple        30\n",
            "Name: count, dtype: int64\n"
          ]
        }
      ]
    },
    {
      "cell_type": "code",
      "source": [
        "import scipy.stats as ss\n",
        "\n",
        "def cramers_v(x, y):\n",
        "    confusion_matrix = pd.crosstab(x, y)\n",
        "    chi2 = ss.chi2_contingency(confusion_matrix)[0]\n",
        "    n = confusion_matrix.sum().sum()\n",
        "    phi2 = chi2 / n\n",
        "    r, k = confusion_matrix.shape\n",
        "    phi2corr = max(0, phi2 - ((k - 1) * (r - 1)) / (n - 1))\n",
        "    rcorr = r - ((r - 1)**2) / (n - 1)\n",
        "    kcorr = k - ((k - 1)**2) / (n - 1)\n",
        "    return np.sqrt(phi2corr / min((kcorr - 1), (rcorr - 1)))\n",
        "\n",
        "# Calculate Cramér's V\n",
        "correlation = cramers_v(data_clean['wheel_system'], data_clean['wheel_system_display'])\n",
        "\n",
        "print(f\"Cramér's V correlation between wheel_system and wheel_system_display: {correlation}\")\n",
        "correlation = cramers_v(data_clean['make_name'], data_clean['body_type'])\n",
        "\n",
        "print(f\"Cramér's V correlation between make_name and body_type: {correlation}\")\n",
        "correlation = cramers_v(data_clean['exterior_color'], data_clean['listing_color'])\n",
        "\n",
        "print(f\"Cramér's V correlation between exterior_color and listing_color: {correlation}\")\n",
        "column_pairs = [\n",
        "    ('model_name', 'trim_name'),\n",
        "    ('transmission', 'transmission_display'),\n",
        "    ('engine_type', 'fuel_type'),('body_type','fuel_type')\n",
        "]\n",
        "\n",
        "for col1, col2 in column_pairs:\n",
        "    correlation = cramers_v(data_clean[col1], data_clean[col2])\n",
        "    print(f\"Cramér's V correlation between {col1} and {col2}: {correlation}\")"
      ],
      "metadata": {
        "colab": {
          "base_uri": "https://localhost:8080/"
        },
        "id": "3e2rhpBtWPWz",
        "outputId": "61c14b04-9530-46d0-c588-ac764e9f39d9"
      },
      "execution_count": 8,
      "outputs": [
        {
          "output_type": "stream",
          "name": "stdout",
          "text": [
            "Cramér's V correlation between wheel_system and wheel_system_display: 1.0\n",
            "Cramér's V correlation between make_name and body_type: 0.32555270389468755\n",
            "Cramér's V correlation between exterior_color and listing_color: 0.9678898274486556\n",
            "Cramér's V correlation between model_name and trim_name: 0.6482888096679202\n",
            "Cramér's V correlation between transmission and transmission_display: 0.9997212716153911\n",
            "Cramér's V correlation between engine_type and fuel_type: 0.9997870819558243\n",
            "Cramér's V correlation between body_type and fuel_type: 0.19244630500082588\n"
          ]
        }
      ]
    },
    {
      "cell_type": "code",
      "source": [],
      "metadata": {
        "id": "WYPOXj9PO68_"
      },
      "execution_count": 8,
      "outputs": []
    },
    {
      "source": [
        "\n",
        "# Create a copy of data_clean to avoid modifying the original\n",
        "dataML = data_clean.copy()\n",
        "\n",
        "# Columns to one-hot encode\n",
        "columns_to_encode = ['body_type', 'transmission', 'wheel_system', 'listing_color']\n",
        "# Create dictionaries to store mappings for each column\n",
        "label_mappings = {}\n",
        "\n",
        "# Perform label encoding for each column\n",
        "for column in columns_to_encode:\n",
        "    unique_values = dataML[column].unique()\n",
        "    label_mappings[column] = {value: i for i, value in enumerate(unique_values)}\n",
        "    dataML[column] = dataML[column].map(label_mappings[column])\n",
        "\n",
        "# Print the label mappings for reference\n",
        "print(\"Label Mappings:\")\n",
        "for column, mapping in label_mappings.items():\n",
        "    print(f\"\\n{column}:\")\n",
        "    for value, label in mapping.items():\n",
        "        print(f\"  {value}: {label}\")\n",
        "\n",
        "dataML = dataML.drop(columns=['id'])\n",
        "\n",
        "# Print all column names\n",
        "print(dataML.columns)"
      ],
      "cell_type": "code",
      "metadata": {
        "colab": {
          "base_uri": "https://localhost:8080/"
        },
        "id": "1-KbsYmBdl1b",
        "outputId": "6a360abf-cc5d-4ae8-ac1b-90cd4000f64b"
      },
      "execution_count": 9,
      "outputs": [
        {
          "output_type": "stream",
          "name": "stdout",
          "text": [
            "Label Mappings:\n",
            "\n",
            "body_type:\n",
            "  Sedan: 0\n",
            "  SUV / Crossover: 1\n",
            "  Pickup Truck: 2\n",
            "  Coupe: 3\n",
            "  Minivan: 4\n",
            "  Hatchback: 5\n",
            "  Wagon: 6\n",
            "  Convertible: 7\n",
            "  Van: 8\n",
            "\n",
            "transmission:\n",
            "  A: 0\n",
            "  CVT: 1\n",
            "  M: 2\n",
            "  nan: 3\n",
            "  Dual Clutch: 4\n",
            "\n",
            "wheel_system:\n",
            "  FWD: 0\n",
            "  4X2: 1\n",
            "  4WD: 2\n",
            "  RWD: 3\n",
            "  AWD: 4\n",
            "  nan: 5\n",
            "\n",
            "listing_color:\n",
            "  black: 0\n",
            "  red: 1\n",
            "  silver: 2\n",
            "  gray: 3\n",
            "  unknown: 4\n",
            "  white: 5\n",
            "  gold: 6\n",
            "  blue: 7\n",
            "  orange: 8\n",
            "  brown: 9\n",
            "  teal: 10\n",
            "  green: 11\n",
            "  yellow: 12\n",
            "  purple: 13\n",
            "Index(['make_name', 'model_name', 'trim_name', 'body_type',\n",
            "       'fuel_tank_volume_gallons', 'fuel_type', 'transmission',\n",
            "       'transmission_display', 'wheel_system', 'wheel_system_display',\n",
            "       'wheelbase_inches', 'back_legroom_inches', 'front_legroom_inches',\n",
            "       'length_inches', 'width_inches', 'height_inches', 'engine_type',\n",
            "       'engine_displacement', 'horsepower', 'daysonmarket', 'description',\n",
            "       'exterior_color', 'major_options', 'maximum_seating', 'year',\n",
            "       'franchise_dealer', 'is_new', 'listed_date', 'listing_color', 'mileage',\n",
            "       'seller_rating', 'price', 'volume_inches', 'listing_year',\n",
            "       'listing_month', 'listing_day'],\n",
            "      dtype='object')\n"
          ]
        }
      ]
    },
    {
      "source": [
        "# Check data types of all columns\n",
        "dataML['is_new'] = dataML['is_new'].astype(int)\n",
        "dataML['franchise_dealer'] = (dataML['franchise_dealer'] == 'Yes').astype(int)\n",
        "dataML = dataML.drop(columns=['listed_date', 'wheel_system_display', 'exterior_color'])\n",
        "print(dataML.dtypes)\n",
        "\n",
        "# Check for any non-numeric columns\n",
        "non_numeric_cols = dataML.select_dtypes(exclude=['number']).columns\n",
        "print(\"\\nNon-numeric columns:\", non_numeric_cols)"
      ],
      "cell_type": "code",
      "metadata": {
        "colab": {
          "base_uri": "https://localhost:8080/"
        },
        "id": "vdRyc7Uzeup7",
        "outputId": "8af5f927-ee7a-4ade-a252-b368148ab536"
      },
      "execution_count": 10,
      "outputs": [
        {
          "output_type": "stream",
          "name": "stdout",
          "text": [
            "make_name                    object\n",
            "model_name                   object\n",
            "trim_name                    object\n",
            "body_type                     int64\n",
            "fuel_tank_volume_gallons    float64\n",
            "fuel_type                    object\n",
            "transmission                  int64\n",
            "transmission_display         object\n",
            "wheel_system                  int64\n",
            "wheelbase_inches            float64\n",
            "back_legroom_inches         float64\n",
            "front_legroom_inches        float64\n",
            "length_inches               float64\n",
            "width_inches                float64\n",
            "height_inches               float64\n",
            "engine_type                  object\n",
            "engine_displacement         float64\n",
            "horsepower                  float64\n",
            "daysonmarket                  int64\n",
            "description                  object\n",
            "major_options                object\n",
            "maximum_seating               int64\n",
            "year                          int64\n",
            "franchise_dealer              int64\n",
            "is_new                        int64\n",
            "listing_color                 int64\n",
            "mileage                     float64\n",
            "seller_rating               float64\n",
            "price                       float64\n",
            "volume_inches               float64\n",
            "listing_year                  int32\n",
            "listing_month                 int32\n",
            "listing_day                   int32\n",
            "dtype: object\n",
            "\n",
            "Non-numeric columns: Index(['make_name', 'model_name', 'trim_name', 'fuel_type',\n",
            "       'transmission_display', 'engine_type', 'description', 'major_options'],\n",
            "      dtype='object')\n"
          ]
        }
      ]
    },
    {
      "cell_type": "markdown",
      "source": [
        "# Modeling Outcomes"
      ],
      "metadata": {
        "id": "LRZCb2y5iSVa"
      }
    },
    {
      "cell_type": "markdown",
      "source": [
        "Selecting the best Model: We try 2 seperate NN approaches (RandomForest = Majority rules is the decision taken) & (XGBoost = Learning from mistakes)"
      ],
      "metadata": {
        "id": "CM2hDhlnhRHn"
      }
    },
    {
      "source": [
        "from sklearn.model_selection import train_test_split\n",
        "import xgboost as xgb\n",
        "from sklearn.metrics import mean_squared_error\n",
        "\n",
        "# Assuming 'price' is your target variable\n",
        "y = dataML['price']\n",
        "X = dataML.select_dtypes(include=['number']).drop(columns=['price'])  # Select numeric features and drop target\n",
        "\n",
        "# Split data into training and testing sets\n",
        "X_train, X_test, y_train, y_test = train_test_split(X, y, test_size=0.2, random_state=42)\n",
        "\n",
        "# Create and train the XGBoost model\n",
        "baseline_model = xgb.XGBRegressor(objective='reg:squarederror', random_state=42)\n",
        "baseline_model.fit(X_train, y_train)\n",
        "\n",
        "# Make predictions on the test set\n",
        "y_pred = baseline_model.predict(X_test)\n",
        "\n",
        "baseline_rmse = np.sqrt(mean_squared_error(y_test, y_pred))\n",
        "print(f\"Baseline Model (XGBoost) RMSE: {baseline_rmse}\")"
      ],
      "cell_type": "code",
      "metadata": {
        "colab": {
          "base_uri": "https://localhost:8080/"
        },
        "id": "ewV0dGbrhL3L",
        "outputId": "b4a639e2-3d0c-4c7c-eb25-56ef069ddbce"
      },
      "execution_count": 11,
      "outputs": [
        {
          "output_type": "stream",
          "name": "stdout",
          "text": [
            "Baseline Model (XGBoost) RMSE: 4407.266358667425\n"
          ]
        }
      ]
    },
    {
      "cell_type": "code",
      "source": [],
      "metadata": {
        "id": "iRvXH7pTfO10"
      },
      "execution_count": 11,
      "outputs": []
    },
    {
      "source": [
        "# Assuming 'price' is your target variable and dataML is your DataFrame with selected features\n",
        "y = dataML['price']\n",
        "X = dataML.select_dtypes(include=['number']).drop(columns=['price'])  # Select numeric features and drop target\n",
        "# Split data into training and testing sets\n",
        "X_train, X_test, y_train, y_test = train_test_split(X, y, test_size=0.2, random_state=42)\n",
        "\n",
        "# Define a dictionary of models to evaluate\n",
        "models = {\n",
        "    'Random Forest': RandomForestRegressor(random_state=42),\n",
        "    'Gradient Boosting': GradientBoostingRegressor(random_state=42),\n",
        "    'Extra Trees': ExtraTreesRegressor(random_state=42)\n",
        "}\n",
        "\n",
        "# Train and evaluate each model\n",
        "for model_name, model in models.items():\n",
        "    model.fit(X_train, y_train)\n",
        "    y_pred = model.predict(X_test)\n",
        "    rmse = np.sqrt(mean_squared_error(y_test, y_pred))\n",
        "    print(f\"{model_name} RMSE: {rmse}\")"
      ],
      "cell_type": "code",
      "metadata": {
        "colab": {
          "base_uri": "https://localhost:8080/"
        },
        "id": "8v8hAmm1fPfa",
        "outputId": "ff1ae3e3-d5e3-4991-803b-135ef77d535e"
      },
      "execution_count": 20,
      "outputs": [
        {
          "output_type": "stream",
          "name": "stdout",
          "text": [
            "Random Forest RMSE: 4319.255190135232\n",
            "Gradient Boosting RMSE: 6148.010690167036\n",
            "Extra Trees RMSE: 4168.205945375035\n"
          ]
        }
      ]
    },
    {
      "source": [
        "importances = baseline_model.feature_importances_\n",
        "# Get feature names from the original training data used to fit baseline_model\n",
        "feature_names = baseline_model.get_booster().feature_names\n",
        "# OR\n",
        "# If you want to use the reduced features for importance\n",
        "# feature_names = X_train.columns  # Use columns from current X_train\n",
        "feature_importance_df = pd.DataFrame({'Feature': feature_names, 'Importance': importances})\n",
        "feature_importance_df = feature_importance_df.sort_values(by='Importance', ascending=False)\n",
        "print(feature_importance_df)"
      ],
      "cell_type": "code",
      "metadata": {
        "colab": {
          "base_uri": "https://localhost:8080/"
        },
        "id": "LIh_pgv8lJCf",
        "outputId": "dccb1e89-d657-43ea-8ea5-4a7ad9f64bff"
      },
      "execution_count": 14,
      "outputs": [
        {
          "output_type": "stream",
          "name": "stdout",
          "text": [
            "                     Feature  Importance\n",
            "11                horsepower    0.379548\n",
            "18                   mileage    0.140867\n",
            "16                    is_new    0.119216\n",
            "0                  body_type    0.076595\n",
            "10       engine_displacement    0.050684\n",
            "3               wheel_system    0.047606\n",
            "13           maximum_seating    0.033211\n",
            "8               width_inches    0.029116\n",
            "6       front_legroom_inches    0.021959\n",
            "5        back_legroom_inches    0.017443\n",
            "1   fuel_tank_volume_gallons    0.014824\n",
            "4           wheelbase_inches    0.013946\n",
            "9              height_inches    0.013305\n",
            "7              length_inches    0.011535\n",
            "20             volume_inches    0.009547\n",
            "12              daysonmarket    0.005429\n",
            "19             seller_rating    0.005410\n",
            "22             listing_month    0.003812\n",
            "14                      year    0.002238\n",
            "17             listing_color    0.001398\n",
            "23               listing_day    0.001201\n",
            "2               transmission    0.001110\n",
            "15          franchise_dealer    0.000000\n",
            "21              listing_year    0.000000\n"
          ]
        }
      ]
    },
    {
      "cell_type": "markdown",
      "source": [
        "Iteration Strategy: We temporarily exclude a feature then train the model. If the model's RMSE improves then we permanently remove the feature."
      ],
      "metadata": {
        "id": "PKk9qtd3oTl9"
      }
    },
    {
      "cell_type": "code",
      "source": [
        "# Initialize list of selected features\n",
        "selected_features = list(X.columns)\n",
        "\n",
        "# Iterate through features, adding or removing based on RMSE impact\n",
        "for feature in X.columns:\n",
        "    # Create a temporary feature set with the current feature removed\n",
        "    temp_features = selected_features.copy()\n",
        "    if feature in temp_features:\n",
        "        temp_features.remove(feature)\n",
        "    else:\n",
        "        temp_features.append(feature)\n",
        "\n",
        "    # Train and evaluate a model with the temporary feature set\n",
        "    X_train_temp = X_train[temp_features]\n",
        "    X_test_temp = X_test[temp_features]\n",
        "    temp_model = xgb.XGBRegressor(objective='reg:squarederror', random_state=42)\n",
        "    temp_model.fit(X_train_temp, y_train)\n",
        "    y_pred_temp = temp_model.predict(X_test_temp)\n",
        "    temp_rmse = np.sqrt(mean_squared_error(y_test, y_pred_temp))\n",
        "\n",
        "    # Update selected features if RMSE improves\n",
        "    if temp_rmse < baseline_rmse:\n",
        "        selected_features = temp_features\n",
        "        baseline_rmse = temp_rmse\n",
        "        print(f\"Feature '{feature}' {'removed' if feature not in selected_features else 'added'}, RMSE improved to: {baseline_rmse}\")\n",
        "    else:\n",
        "        print(f\"Feature '{feature}' {'added' if feature not in selected_features else 'removed'}, RMSE did not improve.\")\n",
        "\n",
        "# Print final selected features and RMSE\n",
        "print(\"\\nFinal selected features:\", selected_features)\n",
        "print(\"Final RMSE:\", baseline_rmse)"
      ],
      "metadata": {
        "colab": {
          "base_uri": "https://localhost:8080/"
        },
        "id": "Rf_vzx3lneqz",
        "outputId": "92db5ba7-bfab-4b6b-bf0c-53c625f68bd4"
      },
      "execution_count": 15,
      "outputs": [
        {
          "output_type": "stream",
          "name": "stdout",
          "text": [
            "Feature 'body_type' removed, RMSE improved to: 4376.38220755463\n",
            "Feature 'fuel_tank_volume_gallons' removed, RMSE did not improve.\n",
            "Feature 'transmission' removed, RMSE improved to: 4340.4895694053785\n",
            "Feature 'wheel_system' removed, RMSE did not improve.\n",
            "Feature 'wheelbase_inches' removed, RMSE did not improve.\n",
            "Feature 'back_legroom_inches' removed, RMSE did not improve.\n",
            "Feature 'front_legroom_inches' removed, RMSE improved to: 4305.818576328242\n",
            "Feature 'length_inches' removed, RMSE did not improve.\n",
            "Feature 'width_inches' removed, RMSE did not improve.\n",
            "Feature 'height_inches' removed, RMSE did not improve.\n",
            "Feature 'engine_displacement' removed, RMSE did not improve.\n",
            "Feature 'horsepower' removed, RMSE did not improve.\n",
            "Feature 'daysonmarket' removed, RMSE improved to: 4299.180266908005\n",
            "Feature 'maximum_seating' removed, RMSE did not improve.\n",
            "Feature 'year' removed, RMSE did not improve.\n",
            "Feature 'franchise_dealer' removed, RMSE did not improve.\n",
            "Feature 'is_new' removed, RMSE did not improve.\n",
            "Feature 'listing_color' removed, RMSE improved to: 4268.210733758113\n",
            "Feature 'mileage' removed, RMSE did not improve.\n",
            "Feature 'seller_rating' removed, RMSE did not improve.\n",
            "Feature 'volume_inches' removed, RMSE did not improve.\n",
            "Feature 'listing_year' removed, RMSE did not improve.\n",
            "Feature 'listing_month' removed, RMSE improved to: 4247.7755658796505\n",
            "Feature 'listing_day' removed, RMSE improved to: 4223.717758187273\n",
            "\n",
            "Final selected features: ['fuel_tank_volume_gallons', 'wheel_system', 'wheelbase_inches', 'back_legroom_inches', 'length_inches', 'width_inches', 'height_inches', 'engine_displacement', 'horsepower', 'maximum_seating', 'year', 'franchise_dealer', 'is_new', 'mileage', 'seller_rating', 'volume_inches', 'listing_year']\n",
            "Final RMSE: 4223.717758187273\n"
          ]
        }
      ]
    },
    {
      "cell_type": "code",
      "source": [],
      "metadata": {
        "id": "Pf_k9AYWhsIj"
      },
      "execution_count": null,
      "outputs": []
    },
    {
      "source": [
        "from sklearn.ensemble import RandomForestRegressor, ExtraTreesRegressor\n",
        "from sklearn.metrics import mean_squared_error\n",
        "\n",
        "# Define a dictionary of models to evaluate\n",
        "models = {\n",
        "    'Random Forest': RandomForestRegressor(random_state=42),\n",
        "    'Extra Trees': ExtraTreesRegressor(random_state=42)\n",
        "}\n",
        "\n",
        "for model_name, model in models.items():\n",
        "    print(f\"\\nEvaluating feature selection for {model_name}:\")\n",
        "\n",
        "    # Initialize list of selected features\n",
        "    selected_features = list(X.columns)\n",
        "\n",
        "    # Train and evaluate initial model to get baseline RMSE\n",
        "    model.fit(X_train, y_train)\n",
        "    y_pred = model.predict(X_test)\n",
        "    baseline_rmse = np.sqrt(mean_squared_error(y_test, y_pred))\n",
        "    print(f\"Baseline RMSE: {baseline_rmse}\")\n",
        "\n",
        "    # Iterate through features, adding or removing based on RMSE impact\n",
        "    for feature in X.columns:\n",
        "        # Create a temporary feature set with the current feature removed\n",
        "        temp_features = selected_features.copy()\n",
        "        if feature in temp_features:\n",
        "            temp_features.remove(feature)\n",
        "        else:\n",
        "            temp_features.append(feature)\n",
        "\n",
        "        # Train and evaluate a model with the temporary feature set\n",
        "        X_train_temp = X_train[temp_features]\n",
        "        X_test_temp = X_test[temp_features]\n",
        "        temp_model = model  # Use the current model (RandomForest or ExtraTrees)\n",
        "        temp_model.fit(X_train_temp, y_train)\n",
        "        y_pred_temp = temp_model.predict(X_test_temp)\n",
        "        temp_rmse = np.sqrt(mean_squared_error(y_test, y_pred_temp))\n",
        "\n",
        "        # Update selected features if RMSE improves\n",
        "        if temp_rmse < baseline_rmse:\n",
        "            selected_features = temp_features\n",
        "            baseline_rmse = temp_rmse\n",
        "            print(f\"Feature '{feature}' {'removed' if feature not in selected_features else 'added'}, RMSE improved to: {baseline_rmse}\")\n",
        "        else:\n",
        "            print(f\"Feature '{feature}' {'added' if feature not in selected_features else 'removed'}, RMSE did not improve.\")\n",
        "\n",
        "    # Print final selected features and RMSE for the current model\n",
        "    print(f\"\\nFinal selected features for {model_name}:\", selected_features)\n",
        "    print(f\"Final RMSE for {model_name}:\", baseline_rmse)"
      ],
      "cell_type": "code",
      "metadata": {
        "colab": {
          "base_uri": "https://localhost:8080/"
        },
        "id": "jfSbIwvGiANI",
        "outputId": "4044c72f-a3ee-4a1a-bdb1-a941e7eaa2a3"
      },
      "execution_count": 21,
      "outputs": [
        {
          "output_type": "stream",
          "name": "stdout",
          "text": [
            "\n",
            "Evaluating feature selection for Random Forest:\n",
            "Baseline RMSE: 4319.255190135232\n",
            "Feature 'body_type' removed, RMSE did not improve.\n",
            "Feature 'fuel_tank_volume_gallons' removed, RMSE did not improve.\n",
            "Feature 'transmission' removed, RMSE did not improve.\n",
            "Feature 'wheel_system' removed, RMSE did not improve.\n",
            "Feature 'wheelbase_inches' removed, RMSE did not improve.\n",
            "Feature 'back_legroom_inches' removed, RMSE did not improve.\n",
            "Feature 'front_legroom_inches' removed, RMSE did not improve.\n",
            "Feature 'length_inches' removed, RMSE did not improve.\n",
            "Feature 'width_inches' removed, RMSE did not improve.\n",
            "Feature 'height_inches' removed, RMSE did not improve.\n",
            "Feature 'engine_displacement' removed, RMSE improved to: 4246.197911739919\n",
            "Feature 'horsepower' removed, RMSE did not improve.\n",
            "Feature 'daysonmarket' removed, RMSE did not improve.\n",
            "Feature 'maximum_seating' removed, RMSE did not improve.\n",
            "Feature 'year' removed, RMSE did not improve.\n",
            "Feature 'franchise_dealer' removed, RMSE did not improve.\n",
            "Feature 'is_new' removed, RMSE did not improve.\n",
            "Feature 'listing_color' removed, RMSE did not improve.\n",
            "Feature 'mileage' removed, RMSE did not improve.\n",
            "Feature 'seller_rating' removed, RMSE did not improve.\n",
            "Feature 'volume_inches' removed, RMSE did not improve.\n",
            "Feature 'listing_year' removed, RMSE did not improve.\n",
            "Feature 'listing_month' removed, RMSE did not improve.\n",
            "Feature 'listing_day' removed, RMSE improved to: 4223.651996646828\n",
            "\n",
            "Final selected features for Random Forest: ['body_type', 'fuel_tank_volume_gallons', 'transmission', 'wheel_system', 'wheelbase_inches', 'back_legroom_inches', 'front_legroom_inches', 'length_inches', 'width_inches', 'height_inches', 'horsepower', 'daysonmarket', 'maximum_seating', 'year', 'franchise_dealer', 'is_new', 'listing_color', 'mileage', 'seller_rating', 'volume_inches', 'listing_year', 'listing_month']\n",
            "Final RMSE for Random Forest: 4223.651996646828\n",
            "\n",
            "Evaluating feature selection for Extra Trees:\n",
            "Baseline RMSE: 4168.205945375035\n",
            "Feature 'body_type' removed, RMSE improved to: 4154.468009637965\n",
            "Feature 'fuel_tank_volume_gallons' removed, RMSE did not improve.\n",
            "Feature 'transmission' removed, RMSE did not improve.\n",
            "Feature 'wheel_system' removed, RMSE did not improve.\n",
            "Feature 'wheelbase_inches' removed, RMSE did not improve.\n",
            "Feature 'back_legroom_inches' removed, RMSE did not improve.\n",
            "Feature 'front_legroom_inches' removed, RMSE did not improve.\n",
            "Feature 'length_inches' removed, RMSE did not improve.\n",
            "Feature 'width_inches' removed, RMSE did not improve.\n",
            "Feature 'height_inches' removed, RMSE did not improve.\n",
            "Feature 'engine_displacement' removed, RMSE did not improve.\n",
            "Feature 'horsepower' removed, RMSE did not improve.\n",
            "Feature 'daysonmarket' removed, RMSE did not improve.\n",
            "Feature 'maximum_seating' removed, RMSE did not improve.\n",
            "Feature 'year' removed, RMSE did not improve.\n",
            "Feature 'franchise_dealer' removed, RMSE did not improve.\n",
            "Feature 'is_new' removed, RMSE did not improve.\n",
            "Feature 'listing_color' removed, RMSE did not improve.\n",
            "Feature 'mileage' removed, RMSE did not improve.\n",
            "Feature 'seller_rating' removed, RMSE did not improve.\n",
            "Feature 'volume_inches' removed, RMSE did not improve.\n",
            "Feature 'listing_year' removed, RMSE did not improve.\n",
            "Feature 'listing_month' removed, RMSE did not improve.\n",
            "Feature 'listing_day' removed, RMSE did not improve.\n",
            "\n",
            "Final selected features for Extra Trees: ['fuel_tank_volume_gallons', 'transmission', 'wheel_system', 'wheelbase_inches', 'back_legroom_inches', 'front_legroom_inches', 'length_inches', 'width_inches', 'height_inches', 'engine_displacement', 'horsepower', 'daysonmarket', 'maximum_seating', 'year', 'franchise_dealer', 'is_new', 'listing_color', 'mileage', 'seller_rating', 'volume_inches', 'listing_year', 'listing_month', 'listing_day']\n",
            "Final RMSE for Extra Trees: 4154.468009637965\n"
          ]
        }
      ]
    },
    {
      "cell_type": "markdown",
      "source": [
        "# Description and Major_Options Model"
      ],
      "metadata": {
        "id": "0YW4XlK1pEVj"
      }
    },
    {
      "cell_type": "markdown",
      "source": [
        "Now that we have some idea of how XGBRegressor is working, let's include some of what was in Major Options and Description."
      ],
      "metadata": {
        "id": "9iubmYe-pJbs"
      }
    },
    {
      "cell_type": "code",
      "source": [],
      "metadata": {
        "id": "h8bNXLAip-lO"
      },
      "execution_count": null,
      "outputs": []
    },
    {
      "source": [
        "from collections import Counter\n",
        "\n",
        "# 1. Unlist and Count Major Options\n",
        "all_options = []\n",
        "for index in dataML.index:\n",
        "    options = dataML.loc[index, 'major_options']\n",
        "    if isinstance(options, str):  # Check if it's a string (not NaN)\n",
        "        options_list = options.strip('[]').replace(\"'\", \"\").split(', ')\n",
        "        all_options.extend(options_list)\n",
        "\n",
        "option_counts = Counter(all_options)\n",
        "\n",
        "# 2. Get Top 10 Features\n",
        "top_10_features = [feature for feature, count in option_counts.most_common(10)]\n",
        "\n",
        "# 3. One-Hot Encode Top 10 Features\n",
        "for feature in top_10_features:\n",
        "    dataML[f'has_{feature}'] = dataML['major_options'].apply(\n",
        "        lambda x: 1 if isinstance(x, str) and feature in x else 0\n",
        "    )\n",
        "\n",
        "# Print option counts and top 10 features (optional)\n",
        "print(\"Option Counts:\", option_counts)\n",
        "print(\"\\nTop 10 Features:\", top_10_features)"
      ],
      "cell_type": "code",
      "metadata": {
        "colab": {
          "base_uri": "https://localhost:8080/"
        },
        "id": "-VUORsegrGTk",
        "outputId": "fbf499a0-319f-478c-8bfa-ea51f4015de7"
      },
      "execution_count": 33,
      "outputs": [
        {
          "output_type": "stream",
          "name": "stdout",
          "text": [
            "Option Counts: Counter({'Backup Camera': 37458, 'Bluetooth': 33629, 'Alloy Wheels': 30829, 'Heated Seats': 20194, 'Navigation System': 17608, 'Sunroof/Moonroof': 17105, 'Remote Start': 15356, 'CarPlay': 15114, 'Blind Spot Monitoring': 13943, 'Leather Seats': 13877, 'Android Auto': 13465, 'Adaptive Cruise Control': 9176, 'Parking Sensors': 8356, 'Third Row Seating': 6099, 'Steel Wheels': 3941, 'Quick Order Package': 3600, 'Premium Package': 3504, 'Convenience Package': 3396, 'Power Package': 1959, 'Tow Package': 1918, 'Technology Package': 1751, 'Appearance Package': 1744, 'Multi Zone Climate Control': 1738, 'Preferred Package': 1472, 'Heat Package': 1314, 'SE Package': 1279, 'Premium Wheels': 1138, 'Cold Weather Package': 1122, 'Sport Package': 1105, 'Off Road Package': 981, 'Cargo Package': 943, 'Adaptive Suspension': 924, 'Chrome Wheels': 810, 'Suspension Package': 728, 'Trailer Package': 699, 'LE Package': 698, 'Luxury Package': 642, 'Driver Assistance Package': 592, 'Comfort Package': 587, 'Storage Package': 567, 'Memory Package': 529, '302A Luxury Equipment Group': 463, 'Premium Plus Package': 445, 'Safety Package': 445, 'Audio Package': 393, 'Value Package': 372, 'Driver Confidence Package': 368, '101A Mid Equipment Group': 359, 'LT Package': 338, 'DVD Entertainment System': 329, 'Customer Preferred Package': 328, 'Sound Package': 283, '301A Mid Equipment Group': 265, 'Ultimate Package': 225, 'Utility Package': 222, '5th Wheel': 202, 'XLT Package': 201, 'M Sport Package': 199, 'Premium 1 Package': 195, 'Security Package': 188, 'RS Package': 173, 'SL Package': 170, 'Premium Smooth Ride Suspension Package': 156, 'Trim Package': 150, 'Light Package': 142, 'Preferred Equipment Package': 135, 'Z71 Package': 127, 'Performance Package': 120, 'Executive Package': 114, 'Premium Audio Package': 113, 'Special Edition Package': 111, 'LS Package': 108, 'P01 Premium Package': 107, 'Lariat Package': 105, 'Premium Sound Package': 103, 'Limited Package': 102, 'Multimedia Package': 102, 'Power Mirror Package': 100, 'SLT Package': 98, 'Dual Rear Wheels': 91, 'Upgrade Package': 86, 'Popular Equipment Package': 75, 'Bose High End Sound Package': 75, '501A Mid Equipment Group': 72, '502A Luxury Equipment Group': 71, 'Preferred Accessory Package': 70, 'Standard Suspension Package': 65, '601A Luxury Equipment Group': 62, 'Premium 2 Package': 58, '701A Luxury Equipment Group': 55, 'AMG Sport Package': 49, 'Ambient Light Package': 47, 'XLE Package': 46, 'SR5 Package': 44, 'TRD Package': 43, '802A Luxury Equipment Group': 43, 'Convenience Plus Package': 41, 'Wood Trim Package': 41, '2lt Package': 40, 'Acoustical Package': 40, 'Z 71 Package': 38, 'Extra Value Package': 35, 'SLE Package': 35, 'Graphics Package': 31, 'Smoker Package': 26, 'Skid Plate Package': 24, 'Rear Climate Package': 24, 'S Line Package': 22, 'Elite Package': 22, 'Sport Chrono Package': 18, 'P2 Package': 16, 'Ultra Luxury Package': 15, 'S Line Sport Package': 13, 'Autoride Suspension Package': 11, 'Tour Package': 10, 'P1 Package': 8, 'Remote Vehicle Starter Prep Package': 8, 'SXT Package': 7, 'Bi Xenon Headlamp Package': 7, 'Ground Effects Package': 6, 'Sport Activity Package': 4, 'King Ranch Package': 4, 'Winter Package': 3, 'All-Wheel Steering': 3, 'Solid Smooth Ride Suspension Package': 3, 'Handicap Accessible': 2, 'Performance Handling Package': 2, 'SR5 Grade Package': 1, 'Preferred Premium Accessory Package': 1, 'F01 Package': 1, 'Quiet Package': 1, 'Wood Upgrade Package': 1, 'Heavy Duty Trailer Package': 1, 'Carbon Ceramic Brakes': 1})\n",
            "\n",
            "Top 10 Features: ['Backup Camera', 'Bluetooth', 'Alloy Wheels', 'Heated Seats', 'Navigation System', 'Sunroof/Moonroof', 'Remote Start', 'CarPlay', 'Blind Spot Monitoring', 'Leather Seats']\n"
          ]
        }
      ]
    },
    {
      "cell_type": "code",
      "source": [
        "dataML.columns"
      ],
      "metadata": {
        "colab": {
          "base_uri": "https://localhost:8080/"
        },
        "id": "ef44l5RpraNu",
        "outputId": "b5a07b7a-36a7-4d3d-edb9-8d5e4668d072"
      },
      "execution_count": 34,
      "outputs": [
        {
          "output_type": "execute_result",
          "data": {
            "text/plain": [
              "Index(['make_name', 'model_name', 'trim_name', 'body_type',\n",
              "       'fuel_tank_volume_gallons', 'fuel_type', 'transmission',\n",
              "       'transmission_display', 'wheel_system', 'wheelbase_inches',\n",
              "       'back_legroom_inches', 'front_legroom_inches', 'length_inches',\n",
              "       'width_inches', 'height_inches', 'engine_type', 'engine_displacement',\n",
              "       'horsepower', 'daysonmarket', 'description', 'major_options',\n",
              "       'maximum_seating', 'year', 'franchise_dealer', 'is_new',\n",
              "       'listing_color', 'mileage', 'seller_rating', 'price', 'volume_inches',\n",
              "       'listing_year', 'listing_month', 'listing_day', 'has_Backup Camera',\n",
              "       'has_Bluetooth', 'has_Alloy Wheels', 'has_Heated Seats',\n",
              "       'has_Navigation System', 'has_Sunroof/Moonroof', 'has_Remote Start',\n",
              "       'has_CarPlay', 'has_Blind Spot Monitoring', 'has_Leather Seats'],\n",
              "      dtype='object')"
            ]
          },
          "metadata": {},
          "execution_count": 34
        }
      ]
    },
    {
      "cell_type": "code",
      "source": [],
      "metadata": {
        "id": "GmbPdgderk9H"
      },
      "execution_count": null,
      "outputs": []
    },
    {
      "source": [
        "import nltk\n",
        "import re\n",
        "from nltk.corpus import stopwords\n",
        "\n",
        "nltk.download('stopwords')\n",
        "stop_words = set(stopwords.words('english'))\n",
        "\n",
        "def preprocess_text(text):\n",
        "    # Check if text is a string before processing\n",
        "    if isinstance(text, str):\n",
        "        # Lowercase the text\n",
        "        text = text.lower()\n",
        "        # Remove stop words\n",
        "        text = ' '.join([word for word in text.split() if word not in stop_words])\n",
        "        # Remove excessive whitespace\n",
        "        text = re.sub(' +', ' ', text)\n",
        "        return text\n",
        "    else:\n",
        "        return text  # Return the original value if it's not a string\n",
        "\n",
        "dataML['description_processed'] = dataML['description'].apply(preprocess_text)\n",
        "\n",
        "print(dataML[['description', 'description_processed']].head())"
      ],
      "cell_type": "code",
      "metadata": {
        "colab": {
          "base_uri": "https://localhost:8080/"
        },
        "id": "Ch6Eiu_tsPqL",
        "outputId": "f0409d77-6399-4e95-993e-8d1cb2fe1c1e"
      },
      "execution_count": 37,
      "outputs": [
        {
          "output_type": "stream",
          "name": "stderr",
          "text": [
            "[nltk_data] Downloading package stopwords to /root/nltk_data...\n",
            "[nltk_data]   Package stopwords is already up-to-date!\n"
          ]
        },
        {
          "output_type": "stream",
          "name": "stdout",
          "text": [
            "                                         description  \\\n",
            "0  This Chevrolet won't be on the lot long! This ...   \n",
            "1  Recent Arrival!110V/150W AC Power Outlet, 2 Sm...   \n",
            "2  This 2018 Acura TLX 3.5L V6 in Silver Metallic...   \n",
            "3  *DESIRABLE FEATURES:* 4X4, BACKUP CAMERA, BLUE...   \n",
            "4  Grille Color - Chrome, Rear Bumper Color - Chr...   \n",
            "\n",
            "                               description_processed  \n",
            "0  chevrolet lot long! car stands crowd, boasting...  \n",
            "1  recent arrival!110v/150w ac power outlet, 2 sm...  \n",
            "2  2018 acura tlx 3.5l v6 silver metallic feature...  \n",
            "3  *desirable features:* 4x4, backup camera, blue...  \n",
            "4  grille color - chrome, rear bumper color - chr...  \n"
          ]
        }
      ]
    },
    {
      "source": [],
      "cell_type": "code",
      "metadata": {
        "colab": {
          "base_uri": "https://localhost:8080/",
          "height": 443
        },
        "id": "PvdgEglTt9l1",
        "outputId": "31d22d94-40ab-48da-b536-a95b2cbe163d"
      },
      "execution_count": 47,
      "outputs": [
        {
          "output_type": "error",
          "ename": "TypeError",
          "evalue": "The `text` argument passed to `__init__(text)` must be a string, not <class 'pandas._libs.missing.NAType'>",
          "traceback": [
            "\u001b[0;31m---------------------------------------------------------------------------\u001b[0m",
            "\u001b[0;31mTypeError\u001b[0m                                 Traceback (most recent call last)",
            "\u001b[0;32m<ipython-input-47-2fd099cda074>\u001b[0m in \u001b[0;36m<cell line: 4>\u001b[0;34m()\u001b[0m\n\u001b[1;32m      2\u001b[0m \u001b[0;34m\u001b[0m\u001b[0m\n\u001b[1;32m      3\u001b[0m \u001b[0;31m# Perform sentiment analysis on 'description_processed'\u001b[0m\u001b[0;34m\u001b[0m\u001b[0;34m\u001b[0m\u001b[0m\n\u001b[0;32m----> 4\u001b[0;31m \u001b[0mdataML\u001b[0m\u001b[0;34m[\u001b[0m\u001b[0;34m'description_sentiment'\u001b[0m\u001b[0;34m]\u001b[0m \u001b[0;34m=\u001b[0m \u001b[0mdataML\u001b[0m\u001b[0;34m[\u001b[0m\u001b[0;34m'description_processed'\u001b[0m\u001b[0;34m]\u001b[0m\u001b[0;34m.\u001b[0m\u001b[0mapply\u001b[0m\u001b[0;34m(\u001b[0m\u001b[0;32mlambda\u001b[0m \u001b[0mx\u001b[0m\u001b[0;34m:\u001b[0m \u001b[0mTextBlob\u001b[0m\u001b[0;34m(\u001b[0m\u001b[0mx\u001b[0m\u001b[0;34m)\u001b[0m\u001b[0;34m.\u001b[0m\u001b[0msentiment\u001b[0m\u001b[0;34m.\u001b[0m\u001b[0mpolarity\u001b[0m\u001b[0;34m)\u001b[0m\u001b[0;34m\u001b[0m\u001b[0;34m\u001b[0m\u001b[0m\n\u001b[0m\u001b[1;32m      5\u001b[0m \u001b[0;34m\u001b[0m\u001b[0m\n\u001b[1;32m      6\u001b[0m \u001b[0;31m# Print the updated DataFrame (optional)\u001b[0m\u001b[0;34m\u001b[0m\u001b[0;34m\u001b[0m\u001b[0m\n",
            "\u001b[0;32m/usr/local/lib/python3.10/dist-packages/pandas/core/series.py\u001b[0m in \u001b[0;36mapply\u001b[0;34m(self, func, convert_dtype, args, by_row, **kwargs)\u001b[0m\n\u001b[1;32m   4922\u001b[0m             \u001b[0margs\u001b[0m\u001b[0;34m=\u001b[0m\u001b[0margs\u001b[0m\u001b[0;34m,\u001b[0m\u001b[0;34m\u001b[0m\u001b[0;34m\u001b[0m\u001b[0m\n\u001b[1;32m   4923\u001b[0m             \u001b[0mkwargs\u001b[0m\u001b[0;34m=\u001b[0m\u001b[0mkwargs\u001b[0m\u001b[0;34m,\u001b[0m\u001b[0;34m\u001b[0m\u001b[0;34m\u001b[0m\u001b[0m\n\u001b[0;32m-> 4924\u001b[0;31m         ).apply()\n\u001b[0m\u001b[1;32m   4925\u001b[0m \u001b[0;34m\u001b[0m\u001b[0m\n\u001b[1;32m   4926\u001b[0m     def _reindex_indexer(\n",
            "\u001b[0;32m/usr/local/lib/python3.10/dist-packages/pandas/core/apply.py\u001b[0m in \u001b[0;36mapply\u001b[0;34m(self)\u001b[0m\n\u001b[1;32m   1425\u001b[0m \u001b[0;34m\u001b[0m\u001b[0m\n\u001b[1;32m   1426\u001b[0m         \u001b[0;31m# self.func is Callable\u001b[0m\u001b[0;34m\u001b[0m\u001b[0;34m\u001b[0m\u001b[0m\n\u001b[0;32m-> 1427\u001b[0;31m         \u001b[0;32mreturn\u001b[0m \u001b[0mself\u001b[0m\u001b[0;34m.\u001b[0m\u001b[0mapply_standard\u001b[0m\u001b[0;34m(\u001b[0m\u001b[0;34m)\u001b[0m\u001b[0;34m\u001b[0m\u001b[0;34m\u001b[0m\u001b[0m\n\u001b[0m\u001b[1;32m   1428\u001b[0m \u001b[0;34m\u001b[0m\u001b[0m\n\u001b[1;32m   1429\u001b[0m     \u001b[0;32mdef\u001b[0m \u001b[0magg\u001b[0m\u001b[0;34m(\u001b[0m\u001b[0mself\u001b[0m\u001b[0;34m)\u001b[0m\u001b[0;34m:\u001b[0m\u001b[0;34m\u001b[0m\u001b[0;34m\u001b[0m\u001b[0m\n",
            "\u001b[0;32m/usr/local/lib/python3.10/dist-packages/pandas/core/apply.py\u001b[0m in \u001b[0;36mapply_standard\u001b[0;34m(self)\u001b[0m\n\u001b[1;32m   1505\u001b[0m         \u001b[0;31m#  Categorical (GH51645).\u001b[0m\u001b[0;34m\u001b[0m\u001b[0;34m\u001b[0m\u001b[0m\n\u001b[1;32m   1506\u001b[0m         \u001b[0maction\u001b[0m \u001b[0;34m=\u001b[0m \u001b[0;34m\"ignore\"\u001b[0m \u001b[0;32mif\u001b[0m \u001b[0misinstance\u001b[0m\u001b[0;34m(\u001b[0m\u001b[0mobj\u001b[0m\u001b[0;34m.\u001b[0m\u001b[0mdtype\u001b[0m\u001b[0;34m,\u001b[0m \u001b[0mCategoricalDtype\u001b[0m\u001b[0;34m)\u001b[0m \u001b[0;32melse\u001b[0m \u001b[0;32mNone\u001b[0m\u001b[0;34m\u001b[0m\u001b[0;34m\u001b[0m\u001b[0m\n\u001b[0;32m-> 1507\u001b[0;31m         mapped = obj._map_values(\n\u001b[0m\u001b[1;32m   1508\u001b[0m             \u001b[0mmapper\u001b[0m\u001b[0;34m=\u001b[0m\u001b[0mcurried\u001b[0m\u001b[0;34m,\u001b[0m \u001b[0mna_action\u001b[0m\u001b[0;34m=\u001b[0m\u001b[0maction\u001b[0m\u001b[0;34m,\u001b[0m \u001b[0mconvert\u001b[0m\u001b[0;34m=\u001b[0m\u001b[0mself\u001b[0m\u001b[0;34m.\u001b[0m\u001b[0mconvert_dtype\u001b[0m\u001b[0;34m\u001b[0m\u001b[0;34m\u001b[0m\u001b[0m\n\u001b[1;32m   1509\u001b[0m         )\n",
            "\u001b[0;32m/usr/local/lib/python3.10/dist-packages/pandas/core/base.py\u001b[0m in \u001b[0;36m_map_values\u001b[0;34m(self, mapper, na_action, convert)\u001b[0m\n\u001b[1;32m    919\u001b[0m             \u001b[0;32mreturn\u001b[0m \u001b[0marr\u001b[0m\u001b[0;34m.\u001b[0m\u001b[0mmap\u001b[0m\u001b[0;34m(\u001b[0m\u001b[0mmapper\u001b[0m\u001b[0;34m,\u001b[0m \u001b[0mna_action\u001b[0m\u001b[0;34m=\u001b[0m\u001b[0mna_action\u001b[0m\u001b[0;34m)\u001b[0m\u001b[0;34m\u001b[0m\u001b[0;34m\u001b[0m\u001b[0m\n\u001b[1;32m    920\u001b[0m \u001b[0;34m\u001b[0m\u001b[0m\n\u001b[0;32m--> 921\u001b[0;31m         \u001b[0;32mreturn\u001b[0m \u001b[0malgorithms\u001b[0m\u001b[0;34m.\u001b[0m\u001b[0mmap_array\u001b[0m\u001b[0;34m(\u001b[0m\u001b[0marr\u001b[0m\u001b[0;34m,\u001b[0m \u001b[0mmapper\u001b[0m\u001b[0;34m,\u001b[0m \u001b[0mna_action\u001b[0m\u001b[0;34m=\u001b[0m\u001b[0mna_action\u001b[0m\u001b[0;34m,\u001b[0m \u001b[0mconvert\u001b[0m\u001b[0;34m=\u001b[0m\u001b[0mconvert\u001b[0m\u001b[0;34m)\u001b[0m\u001b[0;34m\u001b[0m\u001b[0;34m\u001b[0m\u001b[0m\n\u001b[0m\u001b[1;32m    922\u001b[0m \u001b[0;34m\u001b[0m\u001b[0m\n\u001b[1;32m    923\u001b[0m     \u001b[0;34m@\u001b[0m\u001b[0mfinal\u001b[0m\u001b[0;34m\u001b[0m\u001b[0;34m\u001b[0m\u001b[0m\n",
            "\u001b[0;32m/usr/local/lib/python3.10/dist-packages/pandas/core/algorithms.py\u001b[0m in \u001b[0;36mmap_array\u001b[0;34m(arr, mapper, na_action, convert)\u001b[0m\n\u001b[1;32m   1741\u001b[0m     \u001b[0mvalues\u001b[0m \u001b[0;34m=\u001b[0m \u001b[0marr\u001b[0m\u001b[0;34m.\u001b[0m\u001b[0mastype\u001b[0m\u001b[0;34m(\u001b[0m\u001b[0mobject\u001b[0m\u001b[0;34m,\u001b[0m \u001b[0mcopy\u001b[0m\u001b[0;34m=\u001b[0m\u001b[0;32mFalse\u001b[0m\u001b[0;34m)\u001b[0m\u001b[0;34m\u001b[0m\u001b[0;34m\u001b[0m\u001b[0m\n\u001b[1;32m   1742\u001b[0m     \u001b[0;32mif\u001b[0m \u001b[0mna_action\u001b[0m \u001b[0;32mis\u001b[0m \u001b[0;32mNone\u001b[0m\u001b[0;34m:\u001b[0m\u001b[0;34m\u001b[0m\u001b[0;34m\u001b[0m\u001b[0m\n\u001b[0;32m-> 1743\u001b[0;31m         \u001b[0;32mreturn\u001b[0m \u001b[0mlib\u001b[0m\u001b[0;34m.\u001b[0m\u001b[0mmap_infer\u001b[0m\u001b[0;34m(\u001b[0m\u001b[0mvalues\u001b[0m\u001b[0;34m,\u001b[0m \u001b[0mmapper\u001b[0m\u001b[0;34m,\u001b[0m \u001b[0mconvert\u001b[0m\u001b[0;34m=\u001b[0m\u001b[0mconvert\u001b[0m\u001b[0;34m)\u001b[0m\u001b[0;34m\u001b[0m\u001b[0;34m\u001b[0m\u001b[0m\n\u001b[0m\u001b[1;32m   1744\u001b[0m     \u001b[0;32melse\u001b[0m\u001b[0;34m:\u001b[0m\u001b[0;34m\u001b[0m\u001b[0;34m\u001b[0m\u001b[0m\n\u001b[1;32m   1745\u001b[0m         return lib.map_infer_mask(\n",
            "\u001b[0;32mlib.pyx\u001b[0m in \u001b[0;36mpandas._libs.lib.map_infer\u001b[0;34m()\u001b[0m\n",
            "\u001b[0;32m<ipython-input-47-2fd099cda074>\u001b[0m in \u001b[0;36m<lambda>\u001b[0;34m(x)\u001b[0m\n\u001b[1;32m      2\u001b[0m \u001b[0;34m\u001b[0m\u001b[0m\n\u001b[1;32m      3\u001b[0m \u001b[0;31m# Perform sentiment analysis on 'description_processed'\u001b[0m\u001b[0;34m\u001b[0m\u001b[0;34m\u001b[0m\u001b[0m\n\u001b[0;32m----> 4\u001b[0;31m \u001b[0mdataML\u001b[0m\u001b[0;34m[\u001b[0m\u001b[0;34m'description_sentiment'\u001b[0m\u001b[0;34m]\u001b[0m \u001b[0;34m=\u001b[0m \u001b[0mdataML\u001b[0m\u001b[0;34m[\u001b[0m\u001b[0;34m'description_processed'\u001b[0m\u001b[0;34m]\u001b[0m\u001b[0;34m.\u001b[0m\u001b[0mapply\u001b[0m\u001b[0;34m(\u001b[0m\u001b[0;32mlambda\u001b[0m \u001b[0mx\u001b[0m\u001b[0;34m:\u001b[0m \u001b[0mTextBlob\u001b[0m\u001b[0;34m(\u001b[0m\u001b[0mx\u001b[0m\u001b[0;34m)\u001b[0m\u001b[0;34m.\u001b[0m\u001b[0msentiment\u001b[0m\u001b[0;34m.\u001b[0m\u001b[0mpolarity\u001b[0m\u001b[0;34m)\u001b[0m\u001b[0;34m\u001b[0m\u001b[0;34m\u001b[0m\u001b[0m\n\u001b[0m\u001b[1;32m      5\u001b[0m \u001b[0;34m\u001b[0m\u001b[0m\n\u001b[1;32m      6\u001b[0m \u001b[0;31m# Print the updated DataFrame (optional)\u001b[0m\u001b[0;34m\u001b[0m\u001b[0;34m\u001b[0m\u001b[0m\n",
            "\u001b[0;32m/usr/local/lib/python3.10/dist-packages/textblob/blob.py\u001b[0m in \u001b[0;36m__init__\u001b[0;34m(self, text, tokenizer, pos_tagger, np_extractor, analyzer, parser, classifier, clean_html)\u001b[0m\n\u001b[1;32m    382\u001b[0m                 parser=None, classifier=None, clean_html=False):\n\u001b[1;32m    383\u001b[0m         \u001b[0;32mif\u001b[0m \u001b[0;32mnot\u001b[0m \u001b[0misinstance\u001b[0m\u001b[0;34m(\u001b[0m\u001b[0mtext\u001b[0m\u001b[0;34m,\u001b[0m \u001b[0mbasestring\u001b[0m\u001b[0;34m)\u001b[0m\u001b[0;34m:\u001b[0m\u001b[0;34m\u001b[0m\u001b[0;34m\u001b[0m\u001b[0m\n\u001b[0;32m--> 384\u001b[0;31m             raise TypeError('The `text` argument passed to `__init__(text)` '\n\u001b[0m\u001b[1;32m    385\u001b[0m                             'must be a string, not {0}'.format(type(text)))\n\u001b[1;32m    386\u001b[0m         \u001b[0;32mif\u001b[0m \u001b[0mclean_html\u001b[0m\u001b[0;34m:\u001b[0m\u001b[0;34m\u001b[0m\u001b[0;34m\u001b[0m\u001b[0m\n",
            "\u001b[0;31mTypeError\u001b[0m: The `text` argument passed to `__init__(text)` must be a string, not <class 'pandas._libs.missing.NAType'>"
          ]
        }
      ]
    },
    {
      "cell_type": "code",
      "source": [],
      "metadata": {
        "id": "PZtQ72YEsxyc"
      },
      "execution_count": null,
      "outputs": []
    },
    {
      "source": [
        "from collections import Counter\n",
        "import string\n",
        "\n",
        "# Combine all processed descriptions into a single string\n",
        "all_text = ' '.join(dataML['description_processed'].astype(str).tolist())\n",
        "\n",
        "# Tokenize the text into individual words\n",
        "words = all_text.split()\n",
        "\n",
        "# Remove punctuation from words\n",
        "words = [word for word in words if word not in string.punctuation]\n",
        "\n",
        "# Count the frequency of each word\n",
        "word_counts = Counter(words)\n",
        "\n",
        "# Get the top 11 most frequent words\n",
        "top_11_keywords = word_counts.most_common(11)\n",
        "\n",
        "# Exclude the 2nd entry (index 1) and get the remaining top 10\n",
        "top_10_keywords = [keyword for i, keyword in enumerate(top_11_keywords) if i != 1]\n",
        "\n",
        "# Print the top 10 keywords and their counts\n",
        "print(\"Top 10 Keywords:\")\n",
        "for keyword, count in top_10_keywords[:10]:  # Slice to get only top 10\n",
        "    print(f\"- {keyword}: {count}\")"
      ],
      "cell_type": "code",
      "metadata": {
        "colab": {
          "base_uri": "https://localhost:8080/"
        },
        "id": "sWvJ6n2athH6",
        "outputId": "75bf9ef9-c051-44d3-b0b3-900f52cede53"
      },
      "execution_count": 46,
      "outputs": [
        {
          "output_type": "stream",
          "name": "stdout",
          "text": [
            "Top 10 Keywords (excluding the 2nd most frequent):\n",
            "- front: 231840\n",
            "- door: 180552\n",
            "- steering: 133240\n",
            "- power: 121975\n",
            "- air: 120310\n",
            "- wheel: 112039\n",
            "- seat: 91626\n",
            "- driver: 88387\n",
            "- audio: 82857\n",
            "- vanity: 81809\n"
          ]
        }
      ]
    },
    {
      "cell_type": "code",
      "source": [],
      "metadata": {
        "id": "EkxjXStkt2dD"
      },
      "execution_count": null,
      "outputs": []
    },
    {
      "source": [
        "# Check for empty strings in 'description_processed'\n",
        "empty_descriptions = dataML[dataML['description_processed'] == '']\n",
        "\n",
        "# Print the number of empty descriptions\n",
        "print(f\"Number of empty descriptions: {len(empty_descriptions)}\")"
      ],
      "cell_type": "code",
      "metadata": {
        "colab": {
          "base_uri": "https://localhost:8080/"
        },
        "id": "aX1DJVw0uMPH",
        "outputId": "b8df25e1-7ffe-4c15-8d73-5e3ae7e39253"
      },
      "execution_count": 48,
      "outputs": [
        {
          "output_type": "stream",
          "name": "stdout",
          "text": [
            "Number of empty descriptions: 0\n"
          ]
        }
      ]
    },
    {
      "source": [
        "# Check for whitespace-only strings in 'description_processed'\n",
        "whitespace_descriptions = dataML[dataML['description_processed'].str.strip() == '']\n",
        "\n",
        "# Print the number of whitespace-only descriptions\n",
        "print(f\"Number of whitespace-only descriptions: {len(whitespace_descriptions)}\")"
      ],
      "cell_type": "code",
      "metadata": {
        "colab": {
          "base_uri": "https://localhost:8080/"
        },
        "id": "ievCbhQpuPPq",
        "outputId": "9e80a5b1-5a5c-47dd-dec6-84daa117b0e4"
      },
      "execution_count": 49,
      "outputs": [
        {
          "output_type": "stream",
          "name": "stdout",
          "text": [
            "Number of whitespace-only descriptions: 0\n"
          ]
        }
      ]
    },
    {
      "source": [
        "# Check the data type of 'description_processed'\n",
        "print(dataML['description_processed'].dtype)"
      ],
      "cell_type": "code",
      "metadata": {
        "colab": {
          "base_uri": "https://localhost:8080/"
        },
        "id": "2PqmikY7uQVD",
        "outputId": "2221afcd-60bd-4585-a90f-5e6c25209901"
      },
      "execution_count": 50,
      "outputs": [
        {
          "output_type": "stream",
          "name": "stdout",
          "text": [
            "object\n"
          ]
        }
      ]
    },
    {
      "source": [
        "dataML['description_processed'] = dataML['description_processed'].astype('string')"
      ],
      "cell_type": "code",
      "metadata": {
        "id": "TPnTAWnjuaRt"
      },
      "execution_count": 51,
      "outputs": []
    },
    {
      "source": [
        "from textblob import TextBlob\n",
        "\n",
        "def get_sentiment(text):\n",
        "    try:\n",
        "        return TextBlob(text).sentiment.polarity\n",
        "    except:\n",
        "        return 0  # Or any other default value\n",
        "\n",
        "dataML['description_sentiment'] = dataML['description_processed'].apply(get_sentiment)"
      ],
      "cell_type": "code",
      "metadata": {
        "id": "OMuxaSPhuReM"
      },
      "execution_count": 52,
      "outputs": []
    },
    {
      "cell_type": "code",
      "source": [
        "print(dataML[['description_processed', 'description_sentiment']].head())"
      ],
      "metadata": {
        "colab": {
          "base_uri": "https://localhost:8080/"
        },
        "id": "1ZhqXZl2w_0K",
        "outputId": "b7c7c75a-7b49-4006-c72f-3377af2e2a28"
      },
      "execution_count": 53,
      "outputs": [
        {
          "output_type": "stream",
          "name": "stdout",
          "text": [
            "                               description_processed  description_sentiment\n",
            "0  chevrolet lot long! car stands crowd, boasting...               0.595000\n",
            "1  recent arrival!110v/150w ac power outlet, 2 sm...               0.057764\n",
            "2  2018 acura tlx 3.5l v6 silver metallic feature...               0.104996\n",
            "3  *desirable features:* 4x4, backup camera, blue...               0.171975\n",
            "4  grille color - chrome, rear bumper color - chr...               0.005500\n"
          ]
        }
      ]
    },
    {
      "cell_type": "code",
      "source": [
        "dataML.columns"
      ],
      "metadata": {
        "colab": {
          "base_uri": "https://localhost:8080/"
        },
        "id": "2ReFX2dhxQgs",
        "outputId": "c49a6b3f-605f-405a-b2e4-36da3e49ad54"
      },
      "execution_count": 54,
      "outputs": [
        {
          "output_type": "execute_result",
          "data": {
            "text/plain": [
              "Index(['make_name', 'model_name', 'trim_name', 'body_type',\n",
              "       'fuel_tank_volume_gallons', 'fuel_type', 'transmission',\n",
              "       'transmission_display', 'wheel_system', 'wheelbase_inches',\n",
              "       'back_legroom_inches', 'front_legroom_inches', 'length_inches',\n",
              "       'width_inches', 'height_inches', 'engine_type', 'engine_displacement',\n",
              "       'horsepower', 'daysonmarket', 'description', 'major_options',\n",
              "       'maximum_seating', 'year', 'franchise_dealer', 'is_new',\n",
              "       'listing_color', 'mileage', 'seller_rating', 'price', 'volume_inches',\n",
              "       'listing_year', 'listing_month', 'listing_day', 'has_Backup Camera',\n",
              "       'has_Bluetooth', 'has_Alloy Wheels', 'has_Heated Seats',\n",
              "       'has_Navigation System', 'has_Sunroof/Moonroof', 'has_Remote Start',\n",
              "       'has_CarPlay', 'has_Blind Spot Monitoring', 'has_Leather Seats',\n",
              "       'description_processed', 'description_sentiment'],\n",
              "      dtype='object')"
            ]
          },
          "metadata": {},
          "execution_count": 54
        }
      ]
    },
    {
      "cell_type": "markdown",
      "source": [
        "#Experimenting with more data"
      ],
      "metadata": {
        "id": "h-yuR-PRyYz0"
      }
    },
    {
      "cell_type": "code",
      "source": [
        "y = dataML['price']\n",
        "X = dataML.select_dtypes(include=['number']).drop(columns=['price'])  # Select numeric features and drop target\n",
        "\n",
        "# Split data into training and testing sets\n",
        "X_train, X_test, y_train, y_test = train_test_split(X, y, test_size=0.2, random_state=42)\n",
        "\n",
        "# Create and train the XGBoost model\n",
        "baseline_model = xgb.XGBRegressor(objective='reg:squarederror', random_state=42)\n",
        "baseline_model.fit(X_train, y_train)\n",
        "\n",
        "# Make predictions on the test set\n",
        "y_pred = baseline_model.predict(X_test)\n",
        "\n",
        "baseline_rmse = np.sqrt(mean_squared_error(y_test, y_pred))\n",
        "print(f\"Baseline Model (XGBoost) RMSE: {baseline_rmse}\")"
      ],
      "metadata": {
        "colab": {
          "base_uri": "https://localhost:8080/"
        },
        "id": "VAxbJa1SxkGo",
        "outputId": "ff26b40b-3b87-457d-cb62-e3dde749bc11"
      },
      "execution_count": 55,
      "outputs": [
        {
          "output_type": "stream",
          "name": "stdout",
          "text": [
            "Baseline Model (XGBoost) RMSE: 3971.1675876326494\n"
          ]
        }
      ]
    },
    {
      "cell_type": "code",
      "source": [
        "# Assuming 'price' is your target variable and dataML is your DataFrame with selected features\n",
        "y = dataML['price']\n",
        "X = dataML.select_dtypes(include=['number']).drop(columns=['price'])  # Select numeric features and drop target\n",
        "# Split data into training and testing sets\n",
        "X_train, X_test, y_train, y_test = train_test_split(X, y, test_size=0.2, random_state=42)\n",
        "\n",
        "# Define a dictionary of models to evaluate\n",
        "models = {\n",
        "    'Random Forest': RandomForestRegressor(random_state=42),\n",
        "    'Gradient Boosting': GradientBoostingRegressor(random_state=42),\n",
        "    'Extra Trees': ExtraTreesRegressor(random_state=42)\n",
        "}\n",
        "\n",
        "# Train and evaluate each model\n",
        "for model_name, model in models.items():\n",
        "    model.fit(X_train, y_train)\n",
        "    y_pred = model.predict(X_test)\n",
        "    rmse = np.sqrt(mean_squared_error(y_test, y_pred))\n",
        "    print(f\"{model_name} RMSE: {rmse}\")"
      ],
      "metadata": {
        "colab": {
          "base_uri": "https://localhost:8080/"
        },
        "id": "7I5JfOq_xwZ-",
        "outputId": "5de48f98-23e8-41fb-cb4c-2eef40b8145d"
      },
      "execution_count": 56,
      "outputs": [
        {
          "output_type": "stream",
          "name": "stdout",
          "text": [
            "Random Forest RMSE: 4168.369951022441\n",
            "Gradient Boosting RMSE: 5780.511523485578\n",
            "Extra Trees RMSE: 3945.2581623380515\n"
          ]
        }
      ]
    },
    {
      "cell_type": "code",
      "source": [
        "# Initialize list of selected features\n",
        "selected_features = list(X.columns)\n",
        "\n",
        "# Iterate through features, adding or removing based on RMSE impact\n",
        "for feature in X.columns:\n",
        "    # Create a temporary feature set with the current feature removed\n",
        "    temp_features = selected_features.copy()\n",
        "    if feature in temp_features:\n",
        "        temp_features.remove(feature)\n",
        "    else:\n",
        "        temp_features.append(feature)\n",
        "\n",
        "    # Train and evaluate a model with the temporary feature set\n",
        "    X_train_temp = X_train[temp_features]\n",
        "    X_test_temp = X_test[temp_features]\n",
        "    temp_model = xgb.XGBRegressor(objective='reg:squarederror', random_state=42)\n",
        "    temp_model.fit(X_train_temp, y_train)\n",
        "    y_pred_temp = temp_model.predict(X_test_temp)\n",
        "    temp_rmse = np.sqrt(mean_squared_error(y_test, y_pred_temp))\n",
        "\n",
        "    # Update selected features if RMSE improves\n",
        "    if temp_rmse < baseline_rmse:\n",
        "        selected_features = temp_features\n",
        "        baseline_rmse = temp_rmse\n",
        "        print(f\"Feature '{feature}' {'removed' if feature not in selected_features else 'added'}, RMSE improved to: {baseline_rmse}\")\n",
        "    else:\n",
        "        print(f\"Feature '{feature}' {'added' if feature not in selected_features else 'removed'}, RMSE did not improve.\")\n",
        "\n",
        "# Print final selected features and RMSE\n",
        "print(\"\\nFinal selected features:\", selected_features)\n",
        "print(\"Final RMSE:\", baseline_rmse)"
      ],
      "metadata": {
        "colab": {
          "base_uri": "https://localhost:8080/"
        },
        "id": "Zt9CaHl-yRlr",
        "outputId": "6135aa36-aff2-4a5d-bd74-75bb48e9d5d2"
      },
      "execution_count": 57,
      "outputs": [
        {
          "output_type": "stream",
          "name": "stdout",
          "text": [
            "Feature 'body_type' removed, RMSE did not improve.\n",
            "Feature 'fuel_tank_volume_gallons' removed, RMSE did not improve.\n",
            "Feature 'transmission' removed, RMSE did not improve.\n",
            "Feature 'wheel_system' removed, RMSE did not improve.\n",
            "Feature 'wheelbase_inches' removed, RMSE did not improve.\n",
            "Feature 'back_legroom_inches' removed, RMSE did not improve.\n",
            "Feature 'front_legroom_inches' removed, RMSE did not improve.\n",
            "Feature 'length_inches' removed, RMSE did not improve.\n",
            "Feature 'width_inches' removed, RMSE did not improve.\n",
            "Feature 'height_inches' removed, RMSE did not improve.\n",
            "Feature 'engine_displacement' removed, RMSE did not improve.\n",
            "Feature 'horsepower' removed, RMSE did not improve.\n",
            "Feature 'daysonmarket' removed, RMSE did not improve.\n",
            "Feature 'maximum_seating' removed, RMSE did not improve.\n",
            "Feature 'year' removed, RMSE did not improve.\n",
            "Feature 'franchise_dealer' removed, RMSE did not improve.\n",
            "Feature 'is_new' removed, RMSE did not improve.\n",
            "Feature 'listing_color' removed, RMSE improved to: 3937.6780355698984\n",
            "Feature 'mileage' removed, RMSE did not improve.\n",
            "Feature 'seller_rating' removed, RMSE did not improve.\n",
            "Feature 'volume_inches' removed, RMSE did not improve.\n",
            "Feature 'listing_year' removed, RMSE did not improve.\n",
            "Feature 'listing_month' removed, RMSE improved to: 3875.7658659388326\n",
            "Feature 'listing_day' removed, RMSE did not improve.\n",
            "Feature 'has_Backup Camera' removed, RMSE did not improve.\n",
            "Feature 'has_Bluetooth' removed, RMSE did not improve.\n",
            "Feature 'has_Alloy Wheels' removed, RMSE did not improve.\n",
            "Feature 'has_Heated Seats' removed, RMSE did not improve.\n",
            "Feature 'has_Navigation System' removed, RMSE did not improve.\n",
            "Feature 'has_Sunroof/Moonroof' removed, RMSE did not improve.\n",
            "Feature 'has_Remote Start' removed, RMSE did not improve.\n",
            "Feature 'has_CarPlay' removed, RMSE did not improve.\n",
            "Feature 'has_Blind Spot Monitoring' removed, RMSE did not improve.\n",
            "Feature 'has_Leather Seats' removed, RMSE did not improve.\n",
            "Feature 'description_sentiment' removed, RMSE did not improve.\n",
            "\n",
            "Final selected features: ['body_type', 'fuel_tank_volume_gallons', 'transmission', 'wheel_system', 'wheelbase_inches', 'back_legroom_inches', 'front_legroom_inches', 'length_inches', 'width_inches', 'height_inches', 'engine_displacement', 'horsepower', 'daysonmarket', 'maximum_seating', 'year', 'franchise_dealer', 'is_new', 'mileage', 'seller_rating', 'volume_inches', 'listing_year', 'listing_day', 'has_Backup Camera', 'has_Bluetooth', 'has_Alloy Wheels', 'has_Heated Seats', 'has_Navigation System', 'has_Sunroof/Moonroof', 'has_Remote Start', 'has_CarPlay', 'has_Blind Spot Monitoring', 'has_Leather Seats', 'description_sentiment']\n",
            "Final RMSE: 3875.7658659388326\n"
          ]
        }
      ]
    },
    {
      "cell_type": "code",
      "source": [
        "# Define a dictionary of models to evaluate\n",
        "models = {\n",
        "    'Random Forest': RandomForestRegressor(random_state=42),\n",
        "    'Extra Trees': ExtraTreesRegressor(random_state=42)\n",
        "}\n",
        "\n",
        "for model_name, model in models.items():\n",
        "    print(f\"\\nEvaluating feature selection for {model_name}:\")\n",
        "\n",
        "    # Initialize list of selected features\n",
        "    selected_features = list(X.columns)\n",
        "\n",
        "    # Train and evaluate initial model to get baseline RMSE\n",
        "    model.fit(X_train, y_train)\n",
        "    y_pred = model.predict(X_test)\n",
        "    baseline_rmse = np.sqrt(mean_squared_error(y_test, y_pred))\n",
        "    print(f\"Baseline RMSE: {baseline_rmse}\")\n",
        "\n",
        "    # Iterate through features, adding or removing based on RMSE impact\n",
        "    for feature in X.columns:\n",
        "        # Create a temporary feature set with the current feature removed\n",
        "        temp_features = selected_features.copy()\n",
        "        if feature in temp_features:\n",
        "            temp_features.remove(feature)\n",
        "        else:\n",
        "            temp_features.append(feature)\n",
        "\n",
        "        # Train and evaluate a model with the temporary feature set\n",
        "        X_train_temp = X_train[temp_features]\n",
        "        X_test_temp = X_test[temp_features]\n",
        "        temp_model = model  # Use the current model (RandomForest or ExtraTrees)\n",
        "        temp_model.fit(X_train_temp, y_train)\n",
        "        y_pred_temp = temp_model.predict(X_test_temp)\n",
        "        temp_rmse = np.sqrt(mean_squared_error(y_test, y_pred_temp))\n",
        "\n",
        "        # Update selected features if RMSE improves\n",
        "        if temp_rmse < baseline_rmse:\n",
        "            selected_features = temp_features\n",
        "            baseline_rmse = temp_rmse\n",
        "            print(f\"Feature '{feature}' {'removed' if feature not in selected_features else 'added'}, RMSE improved to: {baseline_rmse}\")\n",
        "        else:\n",
        "            print(f\"Feature '{feature}' {'added' if feature not in selected_features else 'removed'}, RMSE did not improve.\")\n",
        "\n",
        "    # Print final selected features and RMSE for the current model\n",
        "    print(f\"\\nFinal selected features for {model_name}:\", selected_features)\n",
        "    print(f\"Final RMSE for {model_name}:\", baseline_rmse)"
      ],
      "metadata": {
        "colab": {
          "base_uri": "https://localhost:8080/"
        },
        "id": "HD9lk-RlyuLX",
        "outputId": "44a58fbc-56c5-4fe2-f369-b72919e76875"
      },
      "execution_count": 58,
      "outputs": [
        {
          "output_type": "stream",
          "name": "stdout",
          "text": [
            "\n",
            "Evaluating feature selection for Random Forest:\n",
            "Baseline RMSE: 4168.369951022441\n",
            "Feature 'body_type' removed, RMSE improved to: 4163.803208695501\n",
            "Feature 'fuel_tank_volume_gallons' removed, RMSE did not improve.\n",
            "Feature 'transmission' removed, RMSE did not improve.\n",
            "Feature 'wheel_system' removed, RMSE did not improve.\n",
            "Feature 'wheelbase_inches' removed, RMSE did not improve.\n",
            "Feature 'back_legroom_inches' removed, RMSE did not improve.\n",
            "Feature 'front_legroom_inches' removed, RMSE did not improve.\n",
            "Feature 'length_inches' removed, RMSE did not improve.\n",
            "Feature 'width_inches' removed, RMSE did not improve.\n",
            "Feature 'height_inches' removed, RMSE did not improve.\n",
            "Feature 'engine_displacement' removed, RMSE improved to: 4050.993802906031\n",
            "Feature 'horsepower' removed, RMSE did not improve.\n",
            "Feature 'daysonmarket' removed, RMSE improved to: 4016.254284103905\n",
            "Feature 'maximum_seating' removed, RMSE improved to: 3978.9432692761734\n",
            "Feature 'year' removed, RMSE did not improve.\n",
            "Feature 'franchise_dealer' removed, RMSE improved to: 3965.471299550862\n",
            "Feature 'is_new' removed, RMSE did not improve.\n",
            "Feature 'listing_color' removed, RMSE did not improve.\n",
            "Feature 'mileage' removed, RMSE did not improve.\n",
            "Feature 'seller_rating' removed, RMSE did not improve.\n",
            "Feature 'volume_inches' removed, RMSE improved to: 3924.210568495947\n",
            "Feature 'listing_year' removed, RMSE did not improve.\n",
            "Feature 'listing_month' removed, RMSE did not improve.\n",
            "Feature 'listing_day' removed, RMSE improved to: 3864.2268607951087\n",
            "Feature 'has_Backup Camera' removed, RMSE did not improve.\n",
            "Feature 'has_Bluetooth' removed, RMSE improved to: 3840.0074960024735\n",
            "Feature 'has_Alloy Wheels' removed, RMSE did not improve.\n",
            "Feature 'has_Heated Seats' removed, RMSE did not improve.\n",
            "Feature 'has_Navigation System' removed, RMSE did not improve.\n",
            "Feature 'has_Sunroof/Moonroof' removed, RMSE did not improve.\n",
            "Feature 'has_Remote Start' removed, RMSE did not improve.\n",
            "Feature 'has_CarPlay' removed, RMSE did not improve.\n",
            "Feature 'has_Blind Spot Monitoring' removed, RMSE did not improve.\n",
            "Feature 'has_Leather Seats' removed, RMSE did not improve.\n",
            "Feature 'description_sentiment' removed, RMSE did not improve.\n",
            "\n",
            "Final selected features for Random Forest: ['fuel_tank_volume_gallons', 'transmission', 'wheel_system', 'wheelbase_inches', 'back_legroom_inches', 'front_legroom_inches', 'length_inches', 'width_inches', 'height_inches', 'horsepower', 'year', 'is_new', 'listing_color', 'mileage', 'seller_rating', 'listing_year', 'listing_month', 'has_Backup Camera', 'has_Alloy Wheels', 'has_Heated Seats', 'has_Navigation System', 'has_Sunroof/Moonroof', 'has_Remote Start', 'has_CarPlay', 'has_Blind Spot Monitoring', 'has_Leather Seats', 'description_sentiment']\n",
            "Final RMSE for Random Forest: 3840.0074960024735\n",
            "\n",
            "Evaluating feature selection for Extra Trees:\n",
            "Baseline RMSE: 3945.2581623380515\n",
            "Feature 'body_type' removed, RMSE improved to: 3910.404957992768\n",
            "Feature 'fuel_tank_volume_gallons' removed, RMSE did not improve.\n",
            "Feature 'transmission' removed, RMSE did not improve.\n",
            "Feature 'wheel_system' removed, RMSE did not improve.\n",
            "Feature 'wheelbase_inches' removed, RMSE did not improve.\n",
            "Feature 'back_legroom_inches' removed, RMSE did not improve.\n",
            "Feature 'front_legroom_inches' removed, RMSE did not improve.\n",
            "Feature 'length_inches' removed, RMSE did not improve.\n",
            "Feature 'width_inches' removed, RMSE did not improve.\n",
            "Feature 'height_inches' removed, RMSE did not improve.\n",
            "Feature 'engine_displacement' removed, RMSE did not improve.\n",
            "Feature 'horsepower' removed, RMSE did not improve.\n",
            "Feature 'daysonmarket' removed, RMSE did not improve.\n",
            "Feature 'maximum_seating' removed, RMSE did not improve.\n",
            "Feature 'year' removed, RMSE did not improve.\n",
            "Feature 'franchise_dealer' removed, RMSE did not improve.\n",
            "Feature 'is_new' removed, RMSE did not improve.\n",
            "Feature 'listing_color' removed, RMSE improved to: 3905.3060674740836\n",
            "Feature 'mileage' removed, RMSE did not improve.\n",
            "Feature 'seller_rating' removed, RMSE did not improve.\n",
            "Feature 'volume_inches' removed, RMSE did not improve.\n",
            "Feature 'listing_year' removed, RMSE did not improve.\n",
            "Feature 'listing_month' removed, RMSE improved to: 3901.5565789350976\n",
            "Feature 'listing_day' removed, RMSE did not improve.\n",
            "Feature 'has_Backup Camera' removed, RMSE did not improve.\n",
            "Feature 'has_Bluetooth' removed, RMSE improved to: 3882.5937618046837\n",
            "Feature 'has_Alloy Wheels' removed, RMSE did not improve.\n",
            "Feature 'has_Heated Seats' removed, RMSE did not improve.\n",
            "Feature 'has_Navigation System' removed, RMSE did not improve.\n",
            "Feature 'has_Sunroof/Moonroof' removed, RMSE did not improve.\n",
            "Feature 'has_Remote Start' removed, RMSE improved to: 3870.9381255736293\n",
            "Feature 'has_CarPlay' removed, RMSE did not improve.\n",
            "Feature 'has_Blind Spot Monitoring' removed, RMSE did not improve.\n",
            "Feature 'has_Leather Seats' removed, RMSE improved to: 3868.0288840125954\n",
            "Feature 'description_sentiment' removed, RMSE did not improve.\n",
            "\n",
            "Final selected features for Extra Trees: ['fuel_tank_volume_gallons', 'transmission', 'wheel_system', 'wheelbase_inches', 'back_legroom_inches', 'front_legroom_inches', 'length_inches', 'width_inches', 'height_inches', 'engine_displacement', 'horsepower', 'daysonmarket', 'maximum_seating', 'year', 'franchise_dealer', 'is_new', 'mileage', 'seller_rating', 'volume_inches', 'listing_year', 'listing_day', 'has_Backup Camera', 'has_Alloy Wheels', 'has_Heated Seats', 'has_Navigation System', 'has_Sunroof/Moonroof', 'has_CarPlay', 'has_Blind Spot Monitoring', 'description_sentiment']\n",
            "Final RMSE for Extra Trees: 3868.0288840125954\n"
          ]
        }
      ]
    },
    {
      "source": [
        "from sklearn.model_selection import RandomizedSearchCV\n",
        "# Define the hyperparameter grid\n",
        "param_grid = {\n",
        "    'n_estimators': [100, 200, 300, 400, 500],\n",
        "    'max_depth': [None, 10, 20, 30, 40, 50],\n",
        "    'min_samples_split': [2, 5, 10, 20],\n",
        "    'min_samples_leaf': [1, 2, 4, 8],\n",
        "    'max_features': ['auto', 'sqrt', 'log2'],\n",
        "    'bootstrap': [True, False]\n",
        "}\n",
        "random_search = RandomizedSearchCV(\n",
        "    estimator=RandomForestRegressor(random_state=42),\n",
        "    param_distributions=param_grid,\n",
        "    n_iter=100,  # Number of random combinations to try\n",
        "    scoring='neg_root_mean_squared_error',  # Use RMSE as the scoring metric\n",
        "    cv=5,  # Number of cross-validation folds\n",
        "    verbose=2,  # Print progress messages\n",
        "    random_state=42,  # Set random state for reproducibility\n",
        "    n_jobs=-1  # Use all available CPU cores for parallel processing\n",
        ")"
      ],
      "cell_type": "code",
      "metadata": {
        "id": "xNAbWkfh9mcD"
      },
      "execution_count": 59,
      "outputs": []
    },
    {
      "source": [
        "# Assuming you have X_train, y_train defined with the selected features:\n",
        "selected_features = ['fuel_tank_volume_gallons', 'transmission', 'wheel_system', 'wheelbase_inches', 'back_legroom_inches', 'front_legroom_inches', 'length_inches', 'width_inches', 'height_inches', 'horsepower', 'year', 'is_new', 'listing_color', 'mileage', 'seller_rating', 'listing_year', 'listing_month', 'has_Backup Camera', 'has_Alloy Wheels', 'has_Heated Seats', 'has_Navigation System', 'has_Sunroof/Moonroof', 'has_Remote Start', 'has_CarPlay', 'has_Blind Spot Monitoring', 'has_Leather Seats', 'description_sentiment']\n",
        "X_train_selected = X_train[selected_features]\n",
        "X_test_selected = X_test[selected_features]\n",
        "\n",
        "# Fit the RandomizedSearchCV object\n",
        "random_search.fit(X_train_selected, y_train)\n",
        "# Get the best hyperparameters\n",
        "best_params = random_search.best_params_\n",
        "print(\"Best Hyperparameters:\", best_params)\n",
        "\n",
        "# Get the best model\n",
        "best_model = random_search.best_estimator_\n",
        "\n",
        "# Evaluate the model on the test set\n",
        "y_pred = best_model.predict(X_test_selected)\n",
        "rmse = np.sqrt(mean_squared_error(y_test, y_pred))\n",
        "print(f\"RMSE with Optimized Hyperparameters: {rmse}\")"
      ],
      "cell_type": "code",
      "metadata": {
        "colab": {
          "base_uri": "https://localhost:8080/",
          "height": 373
        },
        "id": "O4_N3T_G9spu",
        "outputId": "0f3df190-ab65-4efd-d3fc-47e2c40ee279"
      },
      "execution_count": 62,
      "outputs": [
        {
          "output_type": "stream",
          "name": "stdout",
          "text": [
            "Fitting 5 folds for each of 100 candidates, totalling 500 fits\n"
          ]
        },
        {
          "output_type": "error",
          "ename": "KeyboardInterrupt",
          "evalue": "",
          "traceback": [
            "\u001b[0;31m---------------------------------------------------------------------------\u001b[0m",
            "\u001b[0;31mKeyboardInterrupt\u001b[0m                         Traceback (most recent call last)",
            "\u001b[0;32m<ipython-input-62-92fbe1c6b07e>\u001b[0m in \u001b[0;36m<cell line: 7>\u001b[0;34m()\u001b[0m\n\u001b[1;32m      5\u001b[0m \u001b[0;34m\u001b[0m\u001b[0m\n\u001b[1;32m      6\u001b[0m \u001b[0;31m# Fit the RandomizedSearchCV object\u001b[0m\u001b[0;34m\u001b[0m\u001b[0;34m\u001b[0m\u001b[0m\n\u001b[0;32m----> 7\u001b[0;31m \u001b[0mrandom_search\u001b[0m\u001b[0;34m.\u001b[0m\u001b[0mfit\u001b[0m\u001b[0;34m(\u001b[0m\u001b[0mX_train_selected\u001b[0m\u001b[0;34m,\u001b[0m \u001b[0my_train\u001b[0m\u001b[0;34m)\u001b[0m\u001b[0;34m\u001b[0m\u001b[0;34m\u001b[0m\u001b[0m\n\u001b[0m\u001b[1;32m      8\u001b[0m \u001b[0;31m# Get the best hyperparameters\u001b[0m\u001b[0;34m\u001b[0m\u001b[0;34m\u001b[0m\u001b[0m\n\u001b[1;32m      9\u001b[0m \u001b[0mbest_params\u001b[0m \u001b[0;34m=\u001b[0m \u001b[0mrandom_search\u001b[0m\u001b[0;34m.\u001b[0m\u001b[0mbest_params_\u001b[0m\u001b[0;34m\u001b[0m\u001b[0;34m\u001b[0m\u001b[0m\n",
            "\u001b[0;32m/usr/local/lib/python3.10/dist-packages/sklearn/base.py\u001b[0m in \u001b[0;36mwrapper\u001b[0;34m(estimator, *args, **kwargs)\u001b[0m\n\u001b[1;32m   1387\u001b[0m                 )\n\u001b[1;32m   1388\u001b[0m             ):\n\u001b[0;32m-> 1389\u001b[0;31m                 \u001b[0;32mreturn\u001b[0m \u001b[0mfit_method\u001b[0m\u001b[0;34m(\u001b[0m\u001b[0mestimator\u001b[0m\u001b[0;34m,\u001b[0m \u001b[0;34m*\u001b[0m\u001b[0margs\u001b[0m\u001b[0;34m,\u001b[0m \u001b[0;34m**\u001b[0m\u001b[0mkwargs\u001b[0m\u001b[0;34m)\u001b[0m\u001b[0;34m\u001b[0m\u001b[0;34m\u001b[0m\u001b[0m\n\u001b[0m\u001b[1;32m   1390\u001b[0m \u001b[0;34m\u001b[0m\u001b[0m\n\u001b[1;32m   1391\u001b[0m         \u001b[0;32mreturn\u001b[0m \u001b[0mwrapper\u001b[0m\u001b[0;34m\u001b[0m\u001b[0;34m\u001b[0m\u001b[0m\n",
            "\u001b[0;32m/usr/local/lib/python3.10/dist-packages/sklearn/model_selection/_search.py\u001b[0m in \u001b[0;36mfit\u001b[0;34m(self, X, y, **params)\u001b[0m\n\u001b[1;32m   1021\u001b[0m                 \u001b[0;32mreturn\u001b[0m \u001b[0mresults\u001b[0m\u001b[0;34m\u001b[0m\u001b[0;34m\u001b[0m\u001b[0m\n\u001b[1;32m   1022\u001b[0m \u001b[0;34m\u001b[0m\u001b[0m\n\u001b[0;32m-> 1023\u001b[0;31m             \u001b[0mself\u001b[0m\u001b[0;34m.\u001b[0m\u001b[0m_run_search\u001b[0m\u001b[0;34m(\u001b[0m\u001b[0mevaluate_candidates\u001b[0m\u001b[0;34m)\u001b[0m\u001b[0;34m\u001b[0m\u001b[0;34m\u001b[0m\u001b[0m\n\u001b[0m\u001b[1;32m   1024\u001b[0m \u001b[0;34m\u001b[0m\u001b[0m\n\u001b[1;32m   1025\u001b[0m             \u001b[0;31m# multimetric is determined here because in the case of a callable\u001b[0m\u001b[0;34m\u001b[0m\u001b[0;34m\u001b[0m\u001b[0m\n",
            "\u001b[0;32m/usr/local/lib/python3.10/dist-packages/sklearn/model_selection/_search.py\u001b[0m in \u001b[0;36m_run_search\u001b[0;34m(self, evaluate_candidates)\u001b[0m\n\u001b[1;32m   1948\u001b[0m     \u001b[0;32mdef\u001b[0m \u001b[0m_run_search\u001b[0m\u001b[0;34m(\u001b[0m\u001b[0mself\u001b[0m\u001b[0;34m,\u001b[0m \u001b[0mevaluate_candidates\u001b[0m\u001b[0;34m)\u001b[0m\u001b[0;34m:\u001b[0m\u001b[0;34m\u001b[0m\u001b[0;34m\u001b[0m\u001b[0m\n\u001b[1;32m   1949\u001b[0m         \u001b[0;34m\"\"\"Search n_iter candidates from param_distributions\"\"\"\u001b[0m\u001b[0;34m\u001b[0m\u001b[0;34m\u001b[0m\u001b[0m\n\u001b[0;32m-> 1950\u001b[0;31m         evaluate_candidates(\n\u001b[0m\u001b[1;32m   1951\u001b[0m             ParameterSampler(\n\u001b[1;32m   1952\u001b[0m                 \u001b[0mself\u001b[0m\u001b[0;34m.\u001b[0m\u001b[0mparam_distributions\u001b[0m\u001b[0;34m,\u001b[0m \u001b[0mself\u001b[0m\u001b[0;34m.\u001b[0m\u001b[0mn_iter\u001b[0m\u001b[0;34m,\u001b[0m \u001b[0mrandom_state\u001b[0m\u001b[0;34m=\u001b[0m\u001b[0mself\u001b[0m\u001b[0;34m.\u001b[0m\u001b[0mrandom_state\u001b[0m\u001b[0;34m\u001b[0m\u001b[0;34m\u001b[0m\u001b[0m\n",
            "\u001b[0;32m/usr/local/lib/python3.10/dist-packages/sklearn/model_selection/_search.py\u001b[0m in \u001b[0;36mevaluate_candidates\u001b[0;34m(candidate_params, cv, more_results)\u001b[0m\n\u001b[1;32m    967\u001b[0m                     )\n\u001b[1;32m    968\u001b[0m \u001b[0;34m\u001b[0m\u001b[0m\n\u001b[0;32m--> 969\u001b[0;31m                 out = parallel(\n\u001b[0m\u001b[1;32m    970\u001b[0m                     delayed(_fit_and_score)(\n\u001b[1;32m    971\u001b[0m                         \u001b[0mclone\u001b[0m\u001b[0;34m(\u001b[0m\u001b[0mbase_estimator\u001b[0m\u001b[0;34m)\u001b[0m\u001b[0;34m,\u001b[0m\u001b[0;34m\u001b[0m\u001b[0;34m\u001b[0m\u001b[0m\n",
            "\u001b[0;32m/usr/local/lib/python3.10/dist-packages/sklearn/utils/parallel.py\u001b[0m in \u001b[0;36m__call__\u001b[0;34m(self, iterable)\u001b[0m\n\u001b[1;32m     75\u001b[0m             \u001b[0;32mfor\u001b[0m \u001b[0mdelayed_func\u001b[0m\u001b[0;34m,\u001b[0m \u001b[0margs\u001b[0m\u001b[0;34m,\u001b[0m \u001b[0mkwargs\u001b[0m \u001b[0;32min\u001b[0m \u001b[0miterable\u001b[0m\u001b[0;34m\u001b[0m\u001b[0;34m\u001b[0m\u001b[0m\n\u001b[1;32m     76\u001b[0m         )\n\u001b[0;32m---> 77\u001b[0;31m         \u001b[0;32mreturn\u001b[0m \u001b[0msuper\u001b[0m\u001b[0;34m(\u001b[0m\u001b[0;34m)\u001b[0m\u001b[0;34m.\u001b[0m\u001b[0m__call__\u001b[0m\u001b[0;34m(\u001b[0m\u001b[0miterable_with_config\u001b[0m\u001b[0;34m)\u001b[0m\u001b[0;34m\u001b[0m\u001b[0;34m\u001b[0m\u001b[0m\n\u001b[0m\u001b[1;32m     78\u001b[0m \u001b[0;34m\u001b[0m\u001b[0m\n\u001b[1;32m     79\u001b[0m \u001b[0;34m\u001b[0m\u001b[0m\n",
            "\u001b[0;32m/usr/local/lib/python3.10/dist-packages/joblib/parallel.py\u001b[0m in \u001b[0;36m__call__\u001b[0;34m(self, iterable)\u001b[0m\n\u001b[1;32m   2005\u001b[0m         \u001b[0mnext\u001b[0m\u001b[0;34m(\u001b[0m\u001b[0moutput\u001b[0m\u001b[0;34m)\u001b[0m\u001b[0;34m\u001b[0m\u001b[0;34m\u001b[0m\u001b[0m\n\u001b[1;32m   2006\u001b[0m \u001b[0;34m\u001b[0m\u001b[0m\n\u001b[0;32m-> 2007\u001b[0;31m         \u001b[0;32mreturn\u001b[0m \u001b[0moutput\u001b[0m \u001b[0;32mif\u001b[0m \u001b[0mself\u001b[0m\u001b[0;34m.\u001b[0m\u001b[0mreturn_generator\u001b[0m \u001b[0;32melse\u001b[0m \u001b[0mlist\u001b[0m\u001b[0;34m(\u001b[0m\u001b[0moutput\u001b[0m\u001b[0;34m)\u001b[0m\u001b[0;34m\u001b[0m\u001b[0;34m\u001b[0m\u001b[0m\n\u001b[0m\u001b[1;32m   2008\u001b[0m \u001b[0;34m\u001b[0m\u001b[0m\n\u001b[1;32m   2009\u001b[0m     \u001b[0;32mdef\u001b[0m \u001b[0m__repr__\u001b[0m\u001b[0;34m(\u001b[0m\u001b[0mself\u001b[0m\u001b[0;34m)\u001b[0m\u001b[0;34m:\u001b[0m\u001b[0;34m\u001b[0m\u001b[0;34m\u001b[0m\u001b[0m\n",
            "\u001b[0;32m/usr/local/lib/python3.10/dist-packages/joblib/parallel.py\u001b[0m in \u001b[0;36m_get_outputs\u001b[0;34m(self, iterator, pre_dispatch)\u001b[0m\n\u001b[1;32m   1648\u001b[0m \u001b[0;34m\u001b[0m\u001b[0m\n\u001b[1;32m   1649\u001b[0m             \u001b[0;32mwith\u001b[0m \u001b[0mself\u001b[0m\u001b[0;34m.\u001b[0m\u001b[0m_backend\u001b[0m\u001b[0;34m.\u001b[0m\u001b[0mretrieval_context\u001b[0m\u001b[0;34m(\u001b[0m\u001b[0;34m)\u001b[0m\u001b[0;34m:\u001b[0m\u001b[0;34m\u001b[0m\u001b[0;34m\u001b[0m\u001b[0m\n\u001b[0;32m-> 1650\u001b[0;31m                 \u001b[0;32myield\u001b[0m \u001b[0;32mfrom\u001b[0m \u001b[0mself\u001b[0m\u001b[0;34m.\u001b[0m\u001b[0m_retrieve\u001b[0m\u001b[0;34m(\u001b[0m\u001b[0;34m)\u001b[0m\u001b[0;34m\u001b[0m\u001b[0;34m\u001b[0m\u001b[0m\n\u001b[0m\u001b[1;32m   1651\u001b[0m \u001b[0;34m\u001b[0m\u001b[0m\n\u001b[1;32m   1652\u001b[0m         \u001b[0;32mexcept\u001b[0m \u001b[0mGeneratorExit\u001b[0m\u001b[0;34m:\u001b[0m\u001b[0;34m\u001b[0m\u001b[0;34m\u001b[0m\u001b[0m\n",
            "\u001b[0;32m/usr/local/lib/python3.10/dist-packages/joblib/parallel.py\u001b[0m in \u001b[0;36m_retrieve\u001b[0;34m(self)\u001b[0m\n\u001b[1;32m   1760\u001b[0m                 (self._jobs[0].get_status(\n\u001b[1;32m   1761\u001b[0m                     timeout=self.timeout) == TASK_PENDING)):\n\u001b[0;32m-> 1762\u001b[0;31m                 \u001b[0mtime\u001b[0m\u001b[0;34m.\u001b[0m\u001b[0msleep\u001b[0m\u001b[0;34m(\u001b[0m\u001b[0;36m0.01\u001b[0m\u001b[0;34m)\u001b[0m\u001b[0;34m\u001b[0m\u001b[0;34m\u001b[0m\u001b[0m\n\u001b[0m\u001b[1;32m   1763\u001b[0m                 \u001b[0;32mcontinue\u001b[0m\u001b[0;34m\u001b[0m\u001b[0;34m\u001b[0m\u001b[0m\n\u001b[1;32m   1764\u001b[0m \u001b[0;34m\u001b[0m\u001b[0m\n",
            "\u001b[0;31mKeyboardInterrupt\u001b[0m: "
          ]
        }
      ]
    },
    {
      "source": [],
      "cell_type": "code",
      "metadata": {
        "id": "dQoiQDNj9wkc"
      },
      "execution_count": null,
      "outputs": []
    },
    {
      "cell_type": "markdown",
      "source": [
        "# Displaying the model made to a UI"
      ],
      "metadata": {
        "id": "vggheCHPP_6V"
      }
    },
    {
      "source": [
        "selected_features = ['fuel_tank_volume_gallons', 'transmission', 'wheel_system', 'wheelbase_inches', 'back_legroom_inches', 'front_legroom_inches', 'length_inches', 'width_inches', 'height_inches', 'horsepower', 'year', 'is_new', 'listing_color', 'mileage', 'seller_rating', 'listing_year', 'listing_month', 'has_Backup Camera', 'has_Alloy Wheels', 'has_Heated Seats', 'has_Navigation System', 'has_Sunroof/Moonroof', 'has_Remote Start', 'has_CarPlay', 'has_Blind Spot Monitoring', 'has_Leather Seats', 'description_sentiment']\n",
        "\n",
        "# Create a new RandomForestRegressor with optimized hyperparameters (if you have them)\n",
        "# or use default hyperparameters\n",
        "rf_model = RandomForestRegressor(random_state=42) # You can add hyperparameters here\n",
        "\n",
        "\n",
        "X_train_selected = X_train[selected_features]\n",
        "X_test_selected = X_test[selected_features]\n",
        "\n",
        "# Fit the model to the training data with selected features\n",
        "rf_model.fit(X_train_selected, y_train)\n",
        "\n",
        "# Make predictions on the test set\n",
        "y_pred = rf_model.predict(X_test_selected)\n",
        "\n",
        "# Evaluate the model\n",
        "rmse = np.sqrt(mean_squared_error(y_test, y_pred))\n",
        "print(f\"Random Forest RMSE with selected features: {rmse}\")"
      ],
      "cell_type": "code",
      "metadata": {
        "colab": {
          "base_uri": "https://localhost:8080/"
        },
        "id": "CcmACMezQW2N",
        "outputId": "00da63d2-8c54-4e05-f0f3-45da8bdc6190"
      },
      "execution_count": 63,
      "outputs": [
        {
          "output_type": "stream",
          "name": "stdout",
          "text": [
            "Random Forest RMSE with selected features: 3840.0074960024735\n"
          ]
        }
      ]
    },
    {
      "cell_type": "code",
      "source": [
        "# Get feature importances from the trained rf_model\n",
        "importances = rf_model.feature_importances_\n",
        "\n",
        "# Create a DataFrame to store feature importances along with feature names\n",
        "feature_importances_df = pd.DataFrame({'Feature': selected_features, 'Importance': importances})\n",
        "\n",
        "# Sort the DataFrame by importance in descending order\n",
        "feature_importances_df = feature_importances_df.sort_values(by='Importance', ascending=False)\n",
        "\n",
        "# Print or display the feature importances\n",
        "print(feature_importances_df)"
      ],
      "metadata": {
        "colab": {
          "base_uri": "https://localhost:8080/"
        },
        "id": "E312mmZoQEBW",
        "outputId": "56bc6899-e823-4fc0-f769-5fc54968fed1"
      },
      "execution_count": 64,
      "outputs": [
        {
          "output_type": "stream",
          "name": "stdout",
          "text": [
            "                      Feature  Importance\n",
            "9                  horsepower    0.475587\n",
            "13                    mileage    0.258829\n",
            "21       has_Sunroof/Moonroof    0.036822\n",
            "11                     is_new    0.028999\n",
            "6               length_inches    0.027241\n",
            "8               height_inches    0.020685\n",
            "7                width_inches    0.019169\n",
            "0    fuel_tank_volume_gallons    0.017164\n",
            "3            wheelbase_inches    0.016746\n",
            "5        front_legroom_inches    0.015705\n",
            "20      has_Navigation System    0.014733\n",
            "4         back_legroom_inches    0.013928\n",
            "2                wheel_system    0.010003\n",
            "14              seller_rating    0.009293\n",
            "26      description_sentiment    0.007859\n",
            "16              listing_month    0.005007\n",
            "17          has_Backup Camera    0.003944\n",
            "12              listing_color    0.002998\n",
            "19           has_Heated Seats    0.002721\n",
            "10                       year    0.002658\n",
            "15               listing_year    0.002502\n",
            "25          has_Leather Seats    0.002031\n",
            "24  has_Blind Spot Monitoring    0.001539\n",
            "22           has_Remote Start    0.001319\n",
            "23                has_CarPlay    0.001068\n",
            "18           has_Alloy Wheels    0.000915\n",
            "1                transmission    0.000537\n"
          ]
        }
      ]
    },
    {
      "source": [
        "import gradio as gr\n",
        "from sklearn.ensemble import RandomForestRegressor\n",
        "from sklearn.metrics import mean_squared_error\n",
        "import joblib  # Import joblib for saving/loading the scaler\n",
        "\n",
        "\n",
        "def predict_price(year, mileage, horsepower, transmission, wheel_system, fuel_tank_volume, listing_color, seller_rating, has_backup_camera, has_alloy_wheels):\n",
        "    # Create a DataFrame with user inputs\n",
        "    input_data = pd.DataFrame({\n",
        "        'year': [year],\n",
        "        'mileage': [mileage],\n",
        "        'horsepower': [horsepower],\n",
        "        'transmission': [transmission],\n",
        "        'wheel_system': [wheel_system],\n",
        "        'fuel_tank_volume_gallons': [fuel_tank_volume],\n",
        "        'listing_color': [listing_color],\n",
        "        'seller_rating': [seller_rating],\n",
        "        'has_Backup Camera': [has_backup_camera],\n",
        "        'has_Alloy Wheels': [has_alloy_wheels]\n",
        "    })\n",
        "\n",
        "    # Apply transmission mapping\n",
        "    transmission_mapping = {\"Automatic\": 0, \"Manual\": 1}\n",
        "    input_data['transmission'] = input_data['transmission'].map(transmission_mapping)\n",
        "\n",
        "    # Load and apply the scaler (Make sure 'scaler.pkl' exists and was created during training)\n",
        "    scaler = joblib.load('scaler.pkl')\n",
        "    numerical_features = ['mileage', 'horsepower', 'fuel_tank_volume_gallons']\n",
        "    input_data[numerical_features] = scaler.transform(input_data[numerical_features])\n",
        "\n",
        "    # Make prediction\n",
        "    predicted_price = rf_model.predict(input_data)[0]\n",
        "\n",
        "    return f\"Predicted Price: ${predicted_price:.2f}\"\n",
        "\n",
        "\n",
        "# Define Gradio interface\n",
        "min_year = int(dataML['year'].min())\n",
        "max_year = int(dataML['year'].max())\n",
        "min_mileage = int(dataML['mileage'].min())\n",
        "max_mileage = int(dataML['mileage'].max())\n",
        "min_horsepower = int(dataML['horsepower'].min())\n",
        "max_horsepower = int(dataML['horsepower'].max())\n",
        "min_fuel_tank_volume = int(dataML['fuel_tank_volume_gallons'].min())\n",
        "max_fuel_tank_volume = int(dataML['fuel_tank_volume_gallons'].max())\n",
        "\n",
        "iface = gr.Interface(\n",
        "    fn=predict_price,\n",
        "    inputs=[\n",
        "        gr.Slider(minimum=min_year, maximum=max_year, step=1, default=min_year, label=\"Year\"),\n",
        "        gr.Slider(minimum=min_mileage, maximum=max_mileage, step=1, default=min_mileage, label=\"Mileage\"),\n",
        "        gr.Slider(minimum=min_horsepower, maximum=max_horsepower, step=1, default=min_horsepower, label=\"Horsepower\"),\n",
        "        gr.inputs.Dropdown([\"Automatic\", \"Manual\"], label=\"Transmission\"),\n",
        "        gr.inputs.Dropdown([\"AWD\", \"FWD\", \"RWD\"], label=\"Wheel System\"),\n",
        "        gr.Slider(minimum=min_fuel_tank_volume, maximum=max_fuel_tank_volume, step=1, default=min_fuel_tank_volume,\n",
        "                  label=\"Fuel Tank Volume (Gallons)\"),\n",
        "        gr.inputs.Dropdown([\"Black\", \"White\", \"Silver\", \"Gray\", \"Red\", \"Blue\"], label=\"Listing Color\"),\n",
        "        gr.inputs.Slider(1, 5, step=0.1, label=\"Seller Rating\"),\n",
        "        gr.inputs.Checkbox(label=\"Has Backup Camera\"),\n",
        "        gr.inputs.Checkbox(label=\"Has Alloy Wheels\")\n",
        "    ],\n",
        "    outputs=\"number\",\n",
        "    title=\"Car Price Predictor\"\n",
        ")\n",
        "\n",
        "iface.launch()"
      ],
      "cell_type": "code",
      "metadata": {
        "colab": {
          "base_uri": "https://localhost:8080/",
          "height": 1000
        },
        "id": "_t89jD-mU9MX",
        "outputId": "4d36b3d6-d748-4aea-f375-25f3693e63b2"
      },
      "execution_count": 74,
      "outputs": [
        {
          "output_type": "stream",
          "name": "stderr",
          "text": [
            "<ipython-input-74-6072a28580e2>:50: UserWarning: You have unused kwarg parameters in Slider, please remove them: {'default': 2018}\n",
            "  gr.Slider(minimum=min_year, maximum=max_year, step=1, default=min_year, label=\"Year\"),\n",
            "<ipython-input-74-6072a28580e2>:51: UserWarning: You have unused kwarg parameters in Slider, please remove them: {'default': 0}\n",
            "  gr.Slider(minimum=min_mileage, maximum=max_mileage, step=1, default=min_mileage, label=\"Mileage\"),\n",
            "<ipython-input-74-6072a28580e2>:52: UserWarning: You have unused kwarg parameters in Slider, please remove them: {'default': 74}\n",
            "  gr.Slider(minimum=min_horsepower, maximum=max_horsepower, step=1, default=min_horsepower, label=\"Horsepower\"),\n",
            "/usr/local/lib/python3.10/dist-packages/gradio/inputs.py:219: UserWarning: Usage of gradio.inputs is deprecated, and will not be supported in the future, please import your component from gradio.components\n",
            "  warnings.warn(\n",
            "/usr/local/lib/python3.10/dist-packages/gradio/inputs.py:222: UserWarning: `optional` parameter is deprecated, and it has no effect\n",
            "  super().__init__(\n",
            "<ipython-input-74-6072a28580e2>:55: UserWarning: You have unused kwarg parameters in Slider, please remove them: {'default': 1}\n",
            "  gr.Slider(minimum=min_fuel_tank_volume, maximum=max_fuel_tank_volume, step=1, default=min_fuel_tank_volume,\n",
            "/usr/local/lib/python3.10/dist-packages/gradio/inputs.py:89: UserWarning: Usage of gradio.inputs is deprecated, and will not be supported in the future, please import your component from gradio.components\n",
            "  warnings.warn(\n",
            "/usr/local/lib/python3.10/dist-packages/gradio/inputs.py:93: UserWarning: `optional` parameter is deprecated, and it has no effect\n",
            "  super().__init__(\n",
            "/usr/local/lib/python3.10/dist-packages/gradio/inputs.py:121: UserWarning: Usage of gradio.inputs is deprecated, and will not be supported in the future, please import your component from gradio.components\n",
            "  warnings.warn(\n",
            "/usr/local/lib/python3.10/dist-packages/gradio/inputs.py:124: UserWarning: `optional` parameter is deprecated, and it has no effect\n",
            "  super().__init__(value=default, label=label, optional=optional)\n"
          ]
        },
        {
          "output_type": "stream",
          "name": "stdout",
          "text": [
            "IMPORTANT: You are using gradio version 3.35.2, however version 4.44.1 is available, please upgrade.\n",
            "--------\n",
            "Colab notebook detected. To show errors in colab notebook, set debug=True in launch()\n",
            "Note: opening Chrome Inspector may crash demo inside Colab notebooks.\n",
            "\n",
            "To create a public link, set `share=True` in `launch()`.\n"
          ]
        },
        {
          "output_type": "display_data",
          "data": {
            "text/plain": [
              "<IPython.core.display.Javascript object>"
            ],
            "application/javascript": [
              "(async (port, path, width, height, cache, element) => {\n",
              "                        if (!google.colab.kernel.accessAllowed && !cache) {\n",
              "                            return;\n",
              "                        }\n",
              "                        element.appendChild(document.createTextNode(''));\n",
              "                        const url = await google.colab.kernel.proxyPort(port, {cache});\n",
              "\n",
              "                        const external_link = document.createElement('div');\n",
              "                        external_link.innerHTML = `\n",
              "                            <div style=\"font-family: monospace; margin-bottom: 0.5rem\">\n",
              "                                Running on <a href=${new URL(path, url).toString()} target=\"_blank\">\n",
              "                                    https://localhost:${port}${path}\n",
              "                                </a>\n",
              "                            </div>\n",
              "                        `;\n",
              "                        element.appendChild(external_link);\n",
              "\n",
              "                        const iframe = document.createElement('iframe');\n",
              "                        iframe.src = new URL(path, url).toString();\n",
              "                        iframe.height = height;\n",
              "                        iframe.allow = \"autoplay; camera; microphone; clipboard-read; clipboard-write;\"\n",
              "                        iframe.width = width;\n",
              "                        iframe.style.border = 0;\n",
              "                        element.appendChild(iframe);\n",
              "                    })(7864, \"/\", \"100%\", 500, false, window.element)"
            ]
          },
          "metadata": {}
        },
        {
          "output_type": "execute_result",
          "data": {
            "text/plain": []
          },
          "metadata": {},
          "execution_count": 74
        }
      ]
    }
  ]
}
